{
 "cells": [
  {
   "cell_type": "markdown",
   "metadata": {},
   "source": [
    "##### (common setup stuff)"
   ]
  },
  {
   "cell_type": "code",
   "execution_count": 1,
   "metadata": {},
   "outputs": [
    {
     "name": "stdout",
     "output_type": "stream",
     "text": [
      "robust04 index already downloaded.\n"
     ]
    }
   ],
   "source": [
    "%%bash\n",
    "[[ ! -d 'index-robust04' ]] && {\n",
    "echo \"Downloading robust04 index\"\n",
    "wget -q https://git.uwaterloo.ca/jimmylin/anserini-indexes/raw/master/index-robust04-20191213.tar.gz\n",
    "tar xzf index-robust04-20191213.tar.gz\n",
    "mv index-robust04-20191213 index-robust04\n",
    "} || echo \"robust04 index already downloaded.\""
   ]
  },
  {
   "cell_type": "code",
   "execution_count": 2,
   "metadata": {},
   "outputs": [
    {
     "name": "stdout",
     "output_type": "stream",
     "text": [
      "jdk 11 already downloaded.\n"
     ]
    }
   ],
   "source": [
    "%%bash\n",
    "[[ ! -d 'jdk-11' ]] && {\n",
    "echo \"Downloading jdk 11 for pyserini\"\n",
    "wget -q https://download.java.net/java/ga/jdk11/openjdk-11_linux-x64_bin.tar.gz\n",
    "tar xzf openjdk-11_linux-x64_bin.tar.gz\n",
    "( cd jdk-11 && ln -vs . jre )\n",
    "( cd jdk-11/lib && ln -vs . amd64 )\n",
    "} || echo \"jdk 11 already downloaded.\""
   ]
  },
  {
   "cell_type": "code",
   "execution_count": 305,
   "metadata": {},
   "outputs": [],
   "source": [
    "from IPython.display import display, HTML, Image"
   ]
  },
  {
   "cell_type": "code",
   "execution_count": 4,
   "metadata": {},
   "outputs": [],
   "source": [
    "import os\n",
    "_jhome = os.environ['JAVA_HOME']\n",
    "os.environ['JAVA_HOME'] = f'{os.getcwd()}/jdk-11'\n",
    "from pyserini.search import SimpleSearcher\n",
    "robust04 = SimpleSearcher('index-robust04')\n",
    "os.environ['JAVA_HOME'] = _jhome\n",
    "\n",
    "from bs4 import BeautifulSoup\n",
    "def fetch_bs4_doc(docid):\n",
    "    d = robust04.doc(docid)\n",
    "    bs = BeautifulSoup(d.raw(), features='html.parser') if d else None\n",
    "    return bs\n",
    "\n",
    "def fetch_elems(docid, *elems):\n",
    "    bs = fetch_bs4_doc(docid)\n",
    "    entries = (bs.findChild(e) if bs else 'NO_SUCH_DOC' for e in elems)\n",
    "    return tuple('NO_SUCH_FIELD' if e is None else (e.text.strip() if hasattr(e, 'text') else e) for e in entries)\n",
    "\n",
    "fetch_headline = lambda docid: fetch_elems(docid, 'headline')[0]\n",
    "fetch_text = lambda docid: fetch_elems(docid, 'text')[0]\n",
    "fetch_doc = lambda docid: fetch_elems(docid, 'headline', 'text')\n"
   ]
  },
  {
   "cell_type": "code",
   "execution_count": 5,
   "metadata": {
    "ExecuteTime": {
     "end_time": "2019-08-09T12:32:43.478145Z",
     "start_time": "2019-08-09T12:32:43.465422Z"
    }
   },
   "outputs": [],
   "source": [
    "%run -i experiments_common.py"
   ]
  },
  {
   "cell_type": "code",
   "execution_count": 6,
   "metadata": {
    "ExecuteTime": {
     "end_time": "2019-08-09T11:13:49.898132Z",
     "start_time": "2019-08-09T11:13:49.411303Z"
    }
   },
   "outputs": [
    {
     "name": "stdout",
     "output_type": "stream",
     "text": [
      "CPU times: user 47.8 ms, sys: 48.9 ms, total: 96.7 ms\n",
      "Wall time: 40 s\n"
     ]
    },
    {
     "data": {
      "text/html": [
       "\n",
       "            <div>\n",
       "                <p><b>SparkSession - in-memory</b></p>\n",
       "                \n",
       "        <div>\n",
       "            <p><b>SparkContext</b></p>\n",
       "\n",
       "            <p><a href=\"http://10.23.76.7:4040\">Spark UI</a></p>\n",
       "\n",
       "            <dl>\n",
       "              <dt>Version</dt>\n",
       "                <dd><code>v2.4.5</code></dd>\n",
       "              <dt>Master</dt>\n",
       "                <dd><code>yarn</code></dd>\n",
       "              <dt>AppName</dt>\n",
       "                <dd><code>pyspark-shell</code></dd>\n",
       "            </dl>\n",
       "        </div>\n",
       "        \n",
       "            </div>\n",
       "        "
      ],
      "text/plain": [
       "<pyspark.sql.session.SparkSession at 0x7f6718228250>"
      ]
     },
     "execution_count": 6,
     "metadata": {},
     "output_type": "execute_result"
    }
   ],
   "source": [
    "%%time\n",
    "#os.environ['PYSPARK_PYTHON'] = 'python3.6'\n",
    "#os.environ['HADOOP_CONF_DIR'] = os.path.join(os.environ['HOME'], 'aitools4-aq-cluster-computing/conf/hadoop')\n",
    "\n",
    "\n",
    "\n",
    "sparkconf = SparkConf()\n",
    "\n",
    "n_exc = 160\n",
    "cores = 16\n",
    "\n",
    "mode = 'yarn'\n",
    "\n",
    "if mode == 'yarn':\n",
    "    (sparkconf.setMaster('yarn')\n",
    "      .set('spark.driver.memory', '32g')\n",
    "      .set('spark.driver.maxResultSize', '2g')\n",
    "      .set('spark.executor.memory', '64g')\n",
    "     .set('spark.executor.cores', str(cores))\n",
    "     .set('spark.executor.instances', str(n_exc))\n",
    "     .set('spark.default.parallelism', str(n_exc*cores))\n",
    "    )\n",
    "elif mode == 'standalone':\n",
    "    (sparkconf.setMaster('spark://betaweb020.medien.uni-weimar.de:7077')\n",
    "      .set('spark.driver.memory', '32g')\n",
    "      .set('spark.driver.maxResultSize', '2g')\n",
    "     .set('spark.default.parallelism', str(129*12))\n",
    "    )\n",
    "                    \n",
    "global spark\n",
    "\n",
    "if 'spark' in globals() and hasattr(spark, 'stop'):\n",
    "    spark.stop()\n",
    "    SparkSession._instantiatedContext = None\n",
    "    \n",
    "spark = SparkSession.builder.config(conf=sparkconf).getOrCreate()\n",
    "\n",
    "spark\n"
   ]
  },
  {
   "cell_type": "code",
   "execution_count": 26,
   "metadata": {
    "ExecuteTime": {
     "end_time": "2019-08-09T11:13:58.054273Z",
     "start_time": "2019-08-09T11:13:49.901157Z"
    }
   },
   "outputs": [
    {
     "name": "stdout",
     "output_type": "stream",
     "text": [
      "CPU times: user 12.9 ms, sys: 578 µs, total: 13.5 ms\n",
      "Wall time: 7.78 s\n"
     ]
    }
   ],
   "source": [
    "%%time\n",
    "dataset_path = 'axexp/prefs/2019-05-01_uniform-samples_21-axioms.jsonl'\n",
    "dataset_sparkdf = spark.read.json(dataset_path)\n",
    "col_predictors = [x for x in dataset_sparkdf.columns if x.startswith('ax_')]\n",
    "col_response = 'concordant'"
   ]
  },
  {
   "cell_type": "code",
   "execution_count": 27,
   "metadata": {
    "ExecuteTime": {
     "end_time": "2019-08-09T11:13:58.063814Z",
     "start_time": "2019-08-09T11:13:58.057644Z"
    }
   },
   "outputs": [],
   "source": [
    "# classifier template\n",
    "make_classifier = lambda: sklearn.ensemble.RandomForestClassifier(max_depth=20, n_estimators=128)\n",
    "\n",
    "serialize_model = lambda m: base64.b64encode(pickle.dumps(m))\n",
    "deserialize_model = lambda b64: pickle.loads(base64.b64decode(b64))"
   ]
  },
  {
   "cell_type": "code",
   "execution_count": 28,
   "metadata": {},
   "outputs": [],
   "source": [
    "ndcgs = pd.read_table('./../robust04/ncdg-systems.tsv', header=None, names=['system', 'query', 'ndcg'])\n",
    "\n",
    "topics=!grep -A3 '<num>' ../robust04/topics.robust04.301-450.601-700.txt | sed 's/<num>.*: //;s/<title> //' \n",
    "\n",
    "topics = [[y.strip() for y in x.strip().split('\\n') if y and y != '<title>'][:2] for x in\n",
    " '\\n'.join(topics).split('--')\n",
    "]\n",
    "\n",
    "topics = dict((int(qid), q) for qid, q in topics)"
   ]
  },
  {
   "cell_type": "code",
   "execution_count": 7,
   "metadata": {},
   "outputs": [],
   "source": [
    "%%time\n",
    "# additional info on concordant/discordant pairs / bm25 rankings, etc\n",
    "all_concordant_pairs = spark.read.json('/user/kibi9872/axexp/explorative-analysis-in-progress/robust-04-uniform-samples-21-axioms-2019-05-01.jsonl').toPandas()\n",
    "\n",
    "all_concordant_pairs['qid'] = all_concordant_pairs['query'].astype('int')\n",
    "\n",
    "all_concordant_pairs['lower_rank'] = all_concordant_pairs.upper_rank - all_concordant_pairs.rankdiff\n",
    "all_concordant_pairs['lower_score'] = all_concordant_pairs.upper_score + all_concordant_pairs.scorediff"
   ]
  },
  {
   "cell_type": "code",
   "execution_count": 8,
   "metadata": {},
   "outputs": [
    {
     "data": {
      "text/html": [
       "<div>\n",
       "<style scoped>\n",
       "    .dataframe tbody tr th:only-of-type {\n",
       "        vertical-align: middle;\n",
       "    }\n",
       "\n",
       "    .dataframe tbody tr th {\n",
       "        vertical-align: top;\n",
       "    }\n",
       "\n",
       "    .dataframe thead th {\n",
       "        text-align: right;\n",
       "    }\n",
       "</style>\n",
       "<table border=\"1\" class=\"dataframe\">\n",
       "  <thead>\n",
       "    <tr style=\"text-align: right;\">\n",
       "      <th></th>\n",
       "      <th></th>\n",
       "      <th></th>\n",
       "      <th>docid</th>\n",
       "      <th>score</th>\n",
       "      <th>relevance</th>\n",
       "    </tr>\n",
       "    <tr>\n",
       "      <th>system</th>\n",
       "      <th>qid</th>\n",
       "      <th>rank</th>\n",
       "      <th></th>\n",
       "      <th></th>\n",
       "      <th></th>\n",
       "    </tr>\n",
       "  </thead>\n",
       "  <tbody>\n",
       "    <tr>\n",
       "      <th rowspan=\"5\" valign=\"top\">BM25</th>\n",
       "      <th rowspan=\"5\" valign=\"top\">301</th>\n",
       "      <th>1</th>\n",
       "      <td>CR93E-9750</td>\n",
       "      <td>13.031700</td>\n",
       "      <td>&lt;NA&gt;</td>\n",
       "    </tr>\n",
       "    <tr>\n",
       "      <th>2</th>\n",
       "      <td>FBIS4-40260</td>\n",
       "      <td>12.849700</td>\n",
       "      <td>0</td>\n",
       "    </tr>\n",
       "    <tr>\n",
       "      <th>3</th>\n",
       "      <td>FBIS4-46734</td>\n",
       "      <td>12.840900</td>\n",
       "      <td>0</td>\n",
       "    </tr>\n",
       "    <tr>\n",
       "      <th>4</th>\n",
       "      <td>FBIS3-24145</td>\n",
       "      <td>12.831600</td>\n",
       "      <td>0</td>\n",
       "    </tr>\n",
       "    <tr>\n",
       "      <th>5</th>\n",
       "      <td>FBIS4-39330</td>\n",
       "      <td>12.794200</td>\n",
       "      <td>0</td>\n",
       "    </tr>\n",
       "    <tr>\n",
       "      <th>...</th>\n",
       "      <th>...</th>\n",
       "      <th>...</th>\n",
       "      <td>...</td>\n",
       "      <td>...</td>\n",
       "      <td>...</td>\n",
       "    </tr>\n",
       "    <tr>\n",
       "      <th rowspan=\"5\" valign=\"top\">MP-COS</th>\n",
       "      <th rowspan=\"5\" valign=\"top\">689</th>\n",
       "      <th>995</th>\n",
       "      <td>FBIS3-48790</td>\n",
       "      <td>0.833261</td>\n",
       "      <td>0</td>\n",
       "    </tr>\n",
       "    <tr>\n",
       "      <th>996</th>\n",
       "      <td>FBIS4-26117</td>\n",
       "      <td>0.769795</td>\n",
       "      <td>0</td>\n",
       "    </tr>\n",
       "    <tr>\n",
       "      <th>997</th>\n",
       "      <td>FT933-2666</td>\n",
       "      <td>0.741941</td>\n",
       "      <td>&lt;NA&gt;</td>\n",
       "    </tr>\n",
       "    <tr>\n",
       "      <th>998</th>\n",
       "      <td>FT932-5393</td>\n",
       "      <td>0.631475</td>\n",
       "      <td>&lt;NA&gt;</td>\n",
       "    </tr>\n",
       "    <tr>\n",
       "      <th>999</th>\n",
       "      <td>FT932-12604</td>\n",
       "      <td>0.323854</td>\n",
       "      <td>&lt;NA&gt;</td>\n",
       "    </tr>\n",
       "  </tbody>\n",
       "</table>\n",
       "<p>538884 rows × 3 columns</p>\n",
       "</div>"
      ],
      "text/plain": [
       "                       docid      score  relevance\n",
       "system qid rank                                   \n",
       "BM25   301 1      CR93E-9750  13.031700       <NA>\n",
       "           2     FBIS4-40260  12.849700          0\n",
       "           3     FBIS4-46734  12.840900          0\n",
       "           4     FBIS3-24145  12.831600          0\n",
       "           5     FBIS4-39330  12.794200          0\n",
       "...                      ...        ...        ...\n",
       "MP-COS 689 995   FBIS3-48790   0.833261          0\n",
       "           996   FBIS4-26117   0.769795          0\n",
       "           997    FT933-2666   0.741941       <NA>\n",
       "           998    FT932-5393   0.631475       <NA>\n",
       "           999   FT932-12604   0.323854       <NA>\n",
       "\n",
       "[538884 rows x 3 columns]"
      ]
     },
     "execution_count": 8,
     "metadata": {},
     "output_type": "execute_result"
    }
   ],
   "source": [
    "qrels = pd.read_table('../robust04/qrels.robust2004.txt', sep=' ', names=['qid', 'q0', 'docid', 'relevance'])\n",
    "qrels = qrels.set_index(['qid', 'docid'])['relevance']\n",
    "\n",
    "all_rankings = None\n",
    "for system in ['bm25', 'drmm', 'pacrr_drmm', 'mp_cos']:\n",
    "    fn = f'../robust04/runs/topics.robust04/all_topics.top1000.{system}.txt'\n",
    "    sniff = next(open(fn))\n",
    "    cols = ['qid', 'q0', 'docid', 'rank', 'score', 'system', 'x'][:len(sniff.split())]\n",
    "    df = pd.read_table(fn, sep='\\t' if '\\t' in sniff else ' ', names=cols)\n",
    "    df['system'] = df.system.str.upper()\n",
    "    df = df.join(qrels, on=['qid', 'docid'])\n",
    "    df['relevance'] = df.relevance.astype('Int64')\n",
    "    df = df.set_index(['system', 'qid', 'rank'])[['docid', 'score', 'relevance']]\n",
    "    if all_rankings is None:\n",
    "        all_rankings = df\n",
    "    else:\n",
    "        all_rankings = pd.concat([all_rankings, df])\n",
    "all_rankings"
   ]
  },
  {
   "cell_type": "code",
   "execution_count": 29,
   "metadata": {},
   "outputs": [
    {
     "data": {
      "text/html": [
       "<div>\n",
       "<style scoped>\n",
       "    .dataframe tbody tr th:only-of-type {\n",
       "        vertical-align: middle;\n",
       "    }\n",
       "\n",
       "    .dataframe tbody tr th {\n",
       "        vertical-align: top;\n",
       "    }\n",
       "\n",
       "    .dataframe thead th {\n",
       "        text-align: right;\n",
       "    }\n",
       "</style>\n",
       "<table border=\"1\" class=\"dataframe\">\n",
       "  <thead>\n",
       "    <tr style=\"text-align: right;\">\n",
       "      <th></th>\n",
       "      <th>bm25_preference_opposite</th>\n",
       "      <th>concordant</th>\n",
       "      <th>id1</th>\n",
       "      <th>id1_pos_in_bm25</th>\n",
       "      <th>id1_relevance</th>\n",
       "      <th>id1_score</th>\n",
       "      <th>id2</th>\n",
       "      <th>id2_pos_in_bm25</th>\n",
       "      <th>id2_relevance</th>\n",
       "      <th>id2_score</th>\n",
       "      <th>qrel_preference</th>\n",
       "      <th>query</th>\n",
       "      <th>rankdiff</th>\n",
       "      <th>scorediff</th>\n",
       "      <th>system</th>\n",
       "      <th>upper_rank</th>\n",
       "      <th>upper_score</th>\n",
       "      <th>qid</th>\n",
       "      <th>lower_rank</th>\n",
       "      <th>lower_score</th>\n",
       "    </tr>\n",
       "  </thead>\n",
       "  <tbody>\n",
       "    <tr>\n",
       "      <th>1415451</th>\n",
       "      <td>False</td>\n",
       "      <td>1</td>\n",
       "      <td>FBIS4-26192</td>\n",
       "      <td>None</td>\n",
       "      <td>0</td>\n",
       "      <td>0</td>\n",
       "      <td>FBIS3-21961</td>\n",
       "      <td>17</td>\n",
       "      <td>1</td>\n",
       "      <td>0</td>\n",
       "      <td>wrong</td>\n",
       "      <td>301</td>\n",
       "      <td>1</td>\n",
       "      <td>0.007628</td>\n",
       "      <td>DRMM</td>\n",
       "      <td>1</td>\n",
       "      <td>8.446608</td>\n",
       "      <td>301</td>\n",
       "      <td>0</td>\n",
       "      <td>8.454236</td>\n",
       "    </tr>\n",
       "    <tr>\n",
       "      <th>393412</th>\n",
       "      <td>False</td>\n",
       "      <td>1</td>\n",
       "      <td>FBIS4-26192</td>\n",
       "      <td>None</td>\n",
       "      <td>0</td>\n",
       "      <td>0</td>\n",
       "      <td>FBIS3-19646</td>\n",
       "      <td>16</td>\n",
       "      <td>1</td>\n",
       "      <td>0</td>\n",
       "      <td>wrong</td>\n",
       "      <td>301</td>\n",
       "      <td>2</td>\n",
       "      <td>0.044504</td>\n",
       "      <td>DRMM</td>\n",
       "      <td>2</td>\n",
       "      <td>8.409732</td>\n",
       "      <td>301</td>\n",
       "      <td>0</td>\n",
       "      <td>8.454236</td>\n",
       "    </tr>\n",
       "    <tr>\n",
       "      <th>677502</th>\n",
       "      <td>True</td>\n",
       "      <td>1</td>\n",
       "      <td>FBIS3-21961</td>\n",
       "      <td>17</td>\n",
       "      <td>1</td>\n",
       "      <td>0</td>\n",
       "      <td>FBIS3-19646</td>\n",
       "      <td>16</td>\n",
       "      <td>1</td>\n",
       "      <td>0</td>\n",
       "      <td>correct</td>\n",
       "      <td>301</td>\n",
       "      <td>1</td>\n",
       "      <td>0.036876</td>\n",
       "      <td>DRMM</td>\n",
       "      <td>2</td>\n",
       "      <td>8.409732</td>\n",
       "      <td>301</td>\n",
       "      <td>1</td>\n",
       "      <td>8.446608</td>\n",
       "    </tr>\n",
       "    <tr>\n",
       "      <th>787025</th>\n",
       "      <td>False</td>\n",
       "      <td>1</td>\n",
       "      <td>FBIS3-21961</td>\n",
       "      <td>17</td>\n",
       "      <td>1</td>\n",
       "      <td>0</td>\n",
       "      <td>FBIS4-68087</td>\n",
       "      <td>145</td>\n",
       "      <td>None</td>\n",
       "      <td>0</td>\n",
       "      <td>None</td>\n",
       "      <td>301</td>\n",
       "      <td>2</td>\n",
       "      <td>0.038183</td>\n",
       "      <td>DRMM</td>\n",
       "      <td>3</td>\n",
       "      <td>8.408425</td>\n",
       "      <td>301</td>\n",
       "      <td>1</td>\n",
       "      <td>8.446608</td>\n",
       "    </tr>\n",
       "    <tr>\n",
       "      <th>1038632</th>\n",
       "      <td>False</td>\n",
       "      <td>1</td>\n",
       "      <td>FBIS3-19646</td>\n",
       "      <td>16</td>\n",
       "      <td>1</td>\n",
       "      <td>0</td>\n",
       "      <td>FBIS4-68087</td>\n",
       "      <td>145</td>\n",
       "      <td>None</td>\n",
       "      <td>0</td>\n",
       "      <td>None</td>\n",
       "      <td>301</td>\n",
       "      <td>1</td>\n",
       "      <td>0.001307</td>\n",
       "      <td>DRMM</td>\n",
       "      <td>3</td>\n",
       "      <td>8.408425</td>\n",
       "      <td>301</td>\n",
       "      <td>2</td>\n",
       "      <td>8.409732</td>\n",
       "    </tr>\n",
       "    <tr>\n",
       "      <th>1254387</th>\n",
       "      <td>False</td>\n",
       "      <td>1</td>\n",
       "      <td>FBIS4-26192</td>\n",
       "      <td>None</td>\n",
       "      <td>0</td>\n",
       "      <td>0</td>\n",
       "      <td>FBIS4-68087</td>\n",
       "      <td>145</td>\n",
       "      <td>None</td>\n",
       "      <td>0</td>\n",
       "      <td>None</td>\n",
       "      <td>301</td>\n",
       "      <td>3</td>\n",
       "      <td>0.045811</td>\n",
       "      <td>DRMM</td>\n",
       "      <td>3</td>\n",
       "      <td>8.408425</td>\n",
       "      <td>301</td>\n",
       "      <td>0</td>\n",
       "      <td>8.454236</td>\n",
       "    </tr>\n",
       "  </tbody>\n",
       "</table>\n",
       "</div>"
      ],
      "text/plain": [
       "         bm25_preference_opposite  concordant          id1 id1_pos_in_bm25  \\\n",
       "1415451                     False           1  FBIS4-26192            None   \n",
       "393412                      False           1  FBIS4-26192            None   \n",
       "677502                       True           1  FBIS3-21961              17   \n",
       "787025                      False           1  FBIS3-21961              17   \n",
       "1038632                     False           1  FBIS3-19646              16   \n",
       "1254387                     False           1  FBIS4-26192            None   \n",
       "\n",
       "        id1_relevance  id1_score          id2 id2_pos_in_bm25 id2_relevance  \\\n",
       "1415451             0          0  FBIS3-21961              17             1   \n",
       "393412              0          0  FBIS3-19646              16             1   \n",
       "677502              1          0  FBIS3-19646              16             1   \n",
       "787025              1          0  FBIS4-68087             145          None   \n",
       "1038632             1          0  FBIS4-68087             145          None   \n",
       "1254387             0          0  FBIS4-68087             145          None   \n",
       "\n",
       "         id2_score qrel_preference query  rankdiff  scorediff system  \\\n",
       "1415451          0           wrong   301         1   0.007628   DRMM   \n",
       "393412           0           wrong   301         2   0.044504   DRMM   \n",
       "677502           0         correct   301         1   0.036876   DRMM   \n",
       "787025           0            None   301         2   0.038183   DRMM   \n",
       "1038632          0            None   301         1   0.001307   DRMM   \n",
       "1254387          0            None   301         3   0.045811   DRMM   \n",
       "\n",
       "         upper_rank  upper_score  qid  lower_rank  lower_score  \n",
       "1415451           1     8.446608  301           0     8.454236  \n",
       "393412            2     8.409732  301           0     8.454236  \n",
       "677502            2     8.409732  301           1     8.446608  \n",
       "787025            3     8.408425  301           1     8.446608  \n",
       "1038632           3     8.408425  301           2     8.409732  \n",
       "1254387           3     8.408425  301           0     8.454236  "
      ]
     },
     "execution_count": 29,
     "metadata": {},
     "output_type": "execute_result"
    }
   ],
   "source": [
    "all_concordant_pairs.query('qid==301 & system==\"DRMM\" & upper_rank < 4 & lower_rank < 5').sort_values('upper_rank').drop(columns=col_predictors)"
   ]
  },
  {
   "cell_type": "code",
   "execution_count": 30,
   "metadata": {
    "ExecuteTime": {
     "end_time": "2019-08-09T11:13:58.072454Z",
     "start_time": "2019-08-09T11:13:58.067031Z"
    }
   },
   "outputs": [
    {
     "name": "stdout",
     "output_type": "stream",
     "text": [
      "root\n",
      " |-- ax_AND: long (nullable = true)\n",
      " |-- ax_DIV: long (nullable = true)\n",
      " |-- ax_LB1: long (nullable = true)\n",
      " |-- ax_LNC1: long (nullable = true)\n",
      " |-- ax_M_AND: long (nullable = true)\n",
      " |-- ax_M_TDC: long (nullable = true)\n",
      " |-- ax_PROX1: long (nullable = true)\n",
      " |-- ax_PROX2: long (nullable = true)\n",
      " |-- ax_PROX3: long (nullable = true)\n",
      " |-- ax_PROX4: long (nullable = true)\n",
      " |-- ax_PROX5: long (nullable = true)\n",
      " |-- ax_REG: long (nullable = true)\n",
      " |-- ax_STMC1: long (nullable = true)\n",
      " |-- ax_STMC1_f: long (nullable = true)\n",
      " |-- ax_STMC1_fr: long (nullable = true)\n",
      " |-- ax_STMC2: long (nullable = true)\n",
      " |-- ax_STMC2_f: long (nullable = true)\n",
      " |-- ax_STMC2_fr: long (nullable = true)\n",
      " |-- ax_TFC1: long (nullable = true)\n",
      " |-- ax_TFC3: long (nullable = true)\n",
      " |-- ax_TF_LNC: long (nullable = true)\n",
      " |-- concordant: long (nullable = true)\n",
      " |-- query: string (nullable = true)\n",
      " |-- rankdiff: long (nullable = true)\n",
      " |-- scorediff: double (nullable = true)\n",
      " |-- system: string (nullable = true)\n",
      " |-- upper_rank: long (nullable = true)\n",
      " |-- upper_score: double (nullable = true)\n",
      "\n"
     ]
    }
   ],
   "source": [
    "dataset_sparkdf.printSchema()"
   ]
  },
  {
   "cell_type": "code",
   "execution_count": 31,
   "metadata": {
    "ExecuteTime": {
     "end_time": "2019-08-09T11:13:58.101749Z",
     "start_time": "2019-08-09T11:13:58.075535Z"
    }
   },
   "outputs": [],
   "source": [
    "def mk_fit_fn(group_key, keep_model=False, features=list(col_predictors), num_cv_folds=10):\n",
    "    \n",
    "    output_schema = [\n",
    "        T.StructField(fn, T.StringType(), False) for fn in group_key\n",
    "    ] + [\n",
    "        T.StructField('cv_accuracy_mean', T.FloatType(), False),\n",
    "        T.StructField('cv_accuracy_std', T.FloatType(), False),\n",
    "        T.StructField('avg_train_samples_per_fold', T.FloatType(), False),\n",
    "        T.StructField('avg_test_samples_per_fold', T.FloatType(), False),\n",
    "        T.StructField('feature_importances', T.ArrayType(T.FloatType(), False))\n",
    "    ]\n",
    "    \n",
    "    \n",
    "    \n",
    "    if keep_model:\n",
    "        output_schema.append(T.StructField('model', T.StringType(), False))    \n",
    "    \n",
    "    output_schema = T.StructType(output_schema)\n",
    "    \n",
    "    \n",
    "    @pandas_udf(output_schema, PandasUDFType.GROUPED_MAP)\n",
    "    def fit(pdf):\n",
    "        \"\"\"Fit a sub-model on a partial dataframe while recording CV scores.\"\"\"\n",
    "        import os\n",
    "        os.environ['ARROW_PRE_0_15_IPC_FORMAT'] = '1'\n",
    "        xs = pdf[features].values\n",
    "        ys = pdf[col_response]\n",
    "        group = list(pdf[group_key].iloc[0])\n",
    "        columns = group_key + ['cv_accuracy_mean', 'cv_accuracy_std', 'avg_train_samples_per_fold', 'avg_test_samples_per_fold', 'feature_importances']\n",
    "\n",
    "        if keep_model:\n",
    "            columns.append('model')\n",
    "        \n",
    "        clf = make_classifier()\n",
    "        #scores = cross_val_score(clf, xs, ys, cv=num_cv_folds)\n",
    "\n",
    "        splits = GroupShuffleSplit(n_splits=num_cv_folds, random_state=0, test_size=(1/num_cv_folds))\n",
    "        split_groups = pdf.upper_rank.map(str) + '-' + pdf.rankdiff.map(str)\n",
    "        scores = cross_val_score(clf, xs, ys, cv=splits.split(xs, ys, split_groups))\n",
    "        sample_sizes = np.array([[len(tr), len(ts)] for tr, ts in splits.split(xs, ys, split_groups)])\n",
    "        avg_ntr, avg_nts = sample_sizes.mean(axis=0)\n",
    "\n",
    "        full_model = clf.fit(xs, ys)\n",
    "        fimps = pd.Series(data=full_model.feature_importances_, index=features)\n",
    "        out =  pd.DataFrame([\n",
    "            group + [scores.mean(), scores.std(), avg_ntr, avg_nts, fimps] + ([serialize_model(full_model)] if keep_model else []) ],\n",
    "            columns=columns\n",
    "        )\n",
    "\n",
    "        return out\n",
    "    return fit\n",
    "\n",
    "def feature_importances(df, group_key, features=list(col_predictors)):\n",
    "    s = df.feature_importances.map(lambda a: dict(zip(features, a)))\n",
    "    s = pd.DataFrame(list(s))\n",
    "    s = pd.concat([df, s], axis=1)\n",
    "    s = s.melt(id_vars=group_key, value_vars=features, var_name='feature', value_name='importance')\n",
    "    s['feature'] = s.feature.map(lambda fname: fname.replace('ax_', ''))\n",
    "    return s\n",
    "    "
   ]
  },
  {
   "cell_type": "markdown",
   "metadata": {},
   "source": [
    "# Query-local fidelity model\n",
    "\n",
    "Split training data by (query, system) -- i.e. for each system, train one model per query."
   ]
  },
  {
   "cell_type": "code",
   "execution_count": 32,
   "metadata": {
    "ExecuteTime": {
     "end_time": "2019-08-09T11:14:54.601943Z",
     "start_time": "2019-08-09T11:13:58.105583Z"
    }
   },
   "outputs": [
    {
     "name": "stdout",
     "output_type": "stream",
     "text": [
      "CPU times: user 144 ms, sys: 60.4 ms, total: 204 ms\n",
      "Wall time: 1min 8s\n"
     ]
    }
   ],
   "source": [
    "%%time\n",
    "df = dataset_sparkdf\n",
    "#df = df[(df.query == '356') & (df.system == 'DRMM')]\n",
    "query_system = ['query', 'system']\n",
    "fit = mk_fit_fn(group_key=query_system, keep_model=False)\n",
    "query_local_stats = df.groupBy(query_system).apply(fit).toPandas()"
   ]
  },
  {
   "cell_type": "code",
   "execution_count": 33,
   "metadata": {},
   "outputs": [],
   "source": [
    "a = query_local_stats\n",
    "a['query'] = a['query'].map(int)\n",
    "a = a.set_index(['system', 'query'])\n",
    "b = ndcgs.set_index(['system', 'query'])\n",
    "j = a.join(b, how='inner', sort=True).reset_index()\n",
    "for i, ax in enumerate(col_predictors):\n",
    "    j[ax] = j['feature_importances'].map(lambda arr: arr[i])\n",
    "\n",
    "j = j.reset_index()\n",
    "j['qwords'] = j['query'].map(lambda q: len(topics[q].split()))\n",
    "j['qchars'] = j['query'].map(lambda q: len(topics[q]))\n",
    "j['fidelity'] = j['cv_accuracy_mean'] # alias\n",
    "\n",
    "query_local_stats = j"
   ]
  },
  {
   "cell_type": "code",
   "execution_count": 34,
   "metadata": {},
   "outputs": [
    {
     "data": {
      "text/html": [
       "<div>\n",
       "<style scoped>\n",
       "    .dataframe tbody tr th:only-of-type {\n",
       "        vertical-align: middle;\n",
       "    }\n",
       "\n",
       "    .dataframe tbody tr th {\n",
       "        vertical-align: top;\n",
       "    }\n",
       "\n",
       "    .dataframe thead th {\n",
       "        text-align: right;\n",
       "    }\n",
       "</style>\n",
       "<table border=\"1\" class=\"dataframe\">\n",
       "  <thead>\n",
       "    <tr style=\"text-align: right;\">\n",
       "      <th></th>\n",
       "      <th>index</th>\n",
       "      <th>system</th>\n",
       "      <th>query</th>\n",
       "      <th>cv_accuracy_mean</th>\n",
       "      <th>cv_accuracy_std</th>\n",
       "      <th>avg_train_samples_per_fold</th>\n",
       "      <th>avg_test_samples_per_fold</th>\n",
       "      <th>feature_importances</th>\n",
       "      <th>ndcg</th>\n",
       "      <th>ax_AND</th>\n",
       "      <th>...</th>\n",
       "      <th>ax_STMC1_fr</th>\n",
       "      <th>ax_STMC2</th>\n",
       "      <th>ax_STMC2_f</th>\n",
       "      <th>ax_STMC2_fr</th>\n",
       "      <th>ax_TFC1</th>\n",
       "      <th>ax_TFC3</th>\n",
       "      <th>ax_TF_LNC</th>\n",
       "      <th>qwords</th>\n",
       "      <th>qchars</th>\n",
       "      <th>fidelity</th>\n",
       "    </tr>\n",
       "  </thead>\n",
       "  <tbody>\n",
       "    <tr>\n",
       "      <th>0</th>\n",
       "      <td>0</td>\n",
       "      <td>DRMM</td>\n",
       "      <td>301</td>\n",
       "      <td>0.597358</td>\n",
       "      <td>0.018291</td>\n",
       "      <td>9192.0</td>\n",
       "      <td>1022.0</td>\n",
       "      <td>[0.0, 0.0778839960694313, 0.08819776028394699,...</td>\n",
       "      <td>0.1554</td>\n",
       "      <td>0.0</td>\n",
       "      <td>...</td>\n",
       "      <td>0.017329</td>\n",
       "      <td>0.024039</td>\n",
       "      <td>0.023899</td>\n",
       "      <td>0.025065</td>\n",
       "      <td>0.081490</td>\n",
       "      <td>0.000000</td>\n",
       "      <td>0.010178</td>\n",
       "      <td>3</td>\n",
       "      <td>29</td>\n",
       "      <td>0.597358</td>\n",
       "    </tr>\n",
       "    <tr>\n",
       "      <th>1</th>\n",
       "      <td>1</td>\n",
       "      <td>DRMM</td>\n",
       "      <td>303</td>\n",
       "      <td>0.708415</td>\n",
       "      <td>0.020262</td>\n",
       "      <td>9192.0</td>\n",
       "      <td>1022.0</td>\n",
       "      <td>[0.0, 0.10673416405916214, 0.06915658712387085...</td>\n",
       "      <td>0.5300</td>\n",
       "      <td>0.0</td>\n",
       "      <td>...</td>\n",
       "      <td>0.000000</td>\n",
       "      <td>0.003843</td>\n",
       "      <td>0.003541</td>\n",
       "      <td>0.004492</td>\n",
       "      <td>0.018148</td>\n",
       "      <td>0.000000</td>\n",
       "      <td>0.002572</td>\n",
       "      <td>3</td>\n",
       "      <td>29</td>\n",
       "      <td>0.708415</td>\n",
       "    </tr>\n",
       "    <tr>\n",
       "      <th>2</th>\n",
       "      <td>2</td>\n",
       "      <td>DRMM</td>\n",
       "      <td>306</td>\n",
       "      <td>0.609198</td>\n",
       "      <td>0.015447</td>\n",
       "      <td>9192.0</td>\n",
       "      <td>1022.0</td>\n",
       "      <td>[0.0, 0.07080727815628052, 0.09267180413007736...</td>\n",
       "      <td>0.3789</td>\n",
       "      <td>0.0</td>\n",
       "      <td>...</td>\n",
       "      <td>0.016058</td>\n",
       "      <td>0.026001</td>\n",
       "      <td>0.026513</td>\n",
       "      <td>0.025860</td>\n",
       "      <td>0.093706</td>\n",
       "      <td>0.008325</td>\n",
       "      <td>0.005790</td>\n",
       "      <td>3</td>\n",
       "      <td>23</td>\n",
       "      <td>0.609198</td>\n",
       "    </tr>\n",
       "  </tbody>\n",
       "</table>\n",
       "<p>3 rows × 33 columns</p>\n",
       "</div>"
      ],
      "text/plain": [
       "   index system  query  cv_accuracy_mean  cv_accuracy_std  \\\n",
       "0      0   DRMM    301          0.597358         0.018291   \n",
       "1      1   DRMM    303          0.708415         0.020262   \n",
       "2      2   DRMM    306          0.609198         0.015447   \n",
       "\n",
       "   avg_train_samples_per_fold  avg_test_samples_per_fold  \\\n",
       "0                      9192.0                     1022.0   \n",
       "1                      9192.0                     1022.0   \n",
       "2                      9192.0                     1022.0   \n",
       "\n",
       "                                 feature_importances    ndcg  ax_AND  ...  \\\n",
       "0  [0.0, 0.0778839960694313, 0.08819776028394699,...  0.1554     0.0  ...   \n",
       "1  [0.0, 0.10673416405916214, 0.06915658712387085...  0.5300     0.0  ...   \n",
       "2  [0.0, 0.07080727815628052, 0.09267180413007736...  0.3789     0.0  ...   \n",
       "\n",
       "   ax_STMC1_fr  ax_STMC2  ax_STMC2_f  ax_STMC2_fr   ax_TFC1   ax_TFC3  \\\n",
       "0     0.017329  0.024039    0.023899     0.025065  0.081490  0.000000   \n",
       "1     0.000000  0.003843    0.003541     0.004492  0.018148  0.000000   \n",
       "2     0.016058  0.026001    0.026513     0.025860  0.093706  0.008325   \n",
       "\n",
       "   ax_TF_LNC  qwords  qchars  fidelity  \n",
       "0   0.010178       3      29  0.597358  \n",
       "1   0.002572       3      29  0.708415  \n",
       "2   0.005790       3      23  0.609198  \n",
       "\n",
       "[3 rows x 33 columns]"
      ]
     },
     "execution_count": 34,
     "metadata": {},
     "output_type": "execute_result"
    }
   ],
   "source": [
    "query_local_stats.head(3)"
   ]
  },
  {
   "cell_type": "markdown",
   "metadata": {},
   "source": [
    "### Best- and worst-explainable queries"
   ]
  },
  {
   "cell_type": "code",
   "execution_count": 35,
   "metadata": {},
   "outputs": [
    {
     "data": {
      "text/html": [
       "<style  type=\"text/css\" >\n",
       "    #T_f5c8ccaa_dd5a_11ea_aacb_723d654013bcrow0_col0 {\n",
       "            background-color:  #c8e9c1;\n",
       "            color:  #000000;\n",
       "        }    #T_f5c8ccaa_dd5a_11ea_aacb_723d654013bcrow0_col1 {\n",
       "            background-color:  #e5f5e1;\n",
       "            color:  #000000;\n",
       "        }    #T_f5c8ccaa_dd5a_11ea_aacb_723d654013bcrow0_col2 {\n",
       "            background-color:  #e8f6e4;\n",
       "            color:  #000000;\n",
       "        }    #T_f5c8ccaa_dd5a_11ea_aacb_723d654013bcrow0_col4 {\n",
       "            background-color:  #f0f6fd;\n",
       "            color:  #000000;\n",
       "        }    #T_f5c8ccaa_dd5a_11ea_aacb_723d654013bcrow0_col5 {\n",
       "            background-color:  #e2edf8;\n",
       "            color:  #000000;\n",
       "        }    #T_f5c8ccaa_dd5a_11ea_aacb_723d654013bcrow0_col6 {\n",
       "            background-color:  #f7fbff;\n",
       "            color:  #000000;\n",
       "        }    #T_f5c8ccaa_dd5a_11ea_aacb_723d654013bcrow1_col0 {\n",
       "            background-color:  #98d594;\n",
       "            color:  #000000;\n",
       "        }    #T_f5c8ccaa_dd5a_11ea_aacb_723d654013bcrow1_col1 {\n",
       "            background-color:  #329b51;\n",
       "            color:  #000000;\n",
       "        }    #T_f5c8ccaa_dd5a_11ea_aacb_723d654013bcrow1_col2 {\n",
       "            background-color:  #00491d;\n",
       "            color:  #f1f1f1;\n",
       "        }    #T_f5c8ccaa_dd5a_11ea_aacb_723d654013bcrow1_col4 {\n",
       "            background-color:  #e3eef9;\n",
       "            color:  #000000;\n",
       "        }    #T_f5c8ccaa_dd5a_11ea_aacb_723d654013bcrow1_col5 {\n",
       "            background-color:  #58a1cf;\n",
       "            color:  #000000;\n",
       "        }    #T_f5c8ccaa_dd5a_11ea_aacb_723d654013bcrow1_col6 {\n",
       "            background-color:  #c6dbef;\n",
       "            color:  #000000;\n",
       "        }    #T_f5c8ccaa_dd5a_11ea_aacb_723d654013bcrow2_col0 {\n",
       "            background-color:  #005c25;\n",
       "            color:  #f1f1f1;\n",
       "        }    #T_f5c8ccaa_dd5a_11ea_aacb_723d654013bcrow2_col1 {\n",
       "            background-color:  #006729;\n",
       "            color:  #f1f1f1;\n",
       "        }    #T_f5c8ccaa_dd5a_11ea_aacb_723d654013bcrow2_col2 {\n",
       "            background-color:  #006b2b;\n",
       "            color:  #f1f1f1;\n",
       "        }    #T_f5c8ccaa_dd5a_11ea_aacb_723d654013bcrow2_col4 {\n",
       "            background-color:  #1b69af;\n",
       "            color:  #f1f1f1;\n",
       "        }    #T_f5c8ccaa_dd5a_11ea_aacb_723d654013bcrow2_col5 {\n",
       "            background-color:  #08478d;\n",
       "            color:  #f1f1f1;\n",
       "        }    #T_f5c8ccaa_dd5a_11ea_aacb_723d654013bcrow2_col6 {\n",
       "            background-color:  #115ca5;\n",
       "            color:  #f1f1f1;\n",
       "        }    #T_f5c8ccaa_dd5a_11ea_aacb_723d654013bcrow3_col0 {\n",
       "            background-color:  #00441b;\n",
       "            color:  #f1f1f1;\n",
       "        }    #T_f5c8ccaa_dd5a_11ea_aacb_723d654013bcrow3_col1 {\n",
       "            background-color:  #00441b;\n",
       "            color:  #f1f1f1;\n",
       "        }    #T_f5c8ccaa_dd5a_11ea_aacb_723d654013bcrow3_col2 {\n",
       "            background-color:  #00441b;\n",
       "            color:  #f1f1f1;\n",
       "        }    #T_f5c8ccaa_dd5a_11ea_aacb_723d654013bcrow3_col4 {\n",
       "            background-color:  #1561a9;\n",
       "            color:  #f1f1f1;\n",
       "        }    #T_f5c8ccaa_dd5a_11ea_aacb_723d654013bcrow3_col5 {\n",
       "            background-color:  #2373b6;\n",
       "            color:  #f1f1f1;\n",
       "        }    #T_f5c8ccaa_dd5a_11ea_aacb_723d654013bcrow3_col6 {\n",
       "            background-color:  #3787c0;\n",
       "            color:  #000000;\n",
       "        }    #T_f5c8ccaa_dd5a_11ea_aacb_723d654013bcrow4_col0 {\n",
       "            background-color:  #2f984f;\n",
       "            color:  #000000;\n",
       "        }    #T_f5c8ccaa_dd5a_11ea_aacb_723d654013bcrow4_col1 {\n",
       "            background-color:  #005522;\n",
       "            color:  #f1f1f1;\n",
       "        }    #T_f5c8ccaa_dd5a_11ea_aacb_723d654013bcrow4_col2 {\n",
       "            background-color:  #005a24;\n",
       "            color:  #f1f1f1;\n",
       "        }    #T_f5c8ccaa_dd5a_11ea_aacb_723d654013bcrow4_col4 {\n",
       "            background-color:  #08306b;\n",
       "            color:  #f1f1f1;\n",
       "        }    #T_f5c8ccaa_dd5a_11ea_aacb_723d654013bcrow4_col5 {\n",
       "            background-color:  #084d96;\n",
       "            color:  #f1f1f1;\n",
       "        }    #T_f5c8ccaa_dd5a_11ea_aacb_723d654013bcrow4_col6 {\n",
       "            background-color:  #084285;\n",
       "            color:  #f1f1f1;\n",
       "        }    #T_f5c8ccaa_dd5a_11ea_aacb_723d654013bcrow5_col0 {\n",
       "            background-color:  #0d7836;\n",
       "            color:  #f1f1f1;\n",
       "        }    #T_f5c8ccaa_dd5a_11ea_aacb_723d654013bcrow5_col1 {\n",
       "            background-color:  #a8dca2;\n",
       "            color:  #000000;\n",
       "        }    #T_f5c8ccaa_dd5a_11ea_aacb_723d654013bcrow5_col2 {\n",
       "            background-color:  #004c1e;\n",
       "            color:  #f1f1f1;\n",
       "        }    #T_f5c8ccaa_dd5a_11ea_aacb_723d654013bcrow5_col4 {\n",
       "            background-color:  #08326e;\n",
       "            color:  #f1f1f1;\n",
       "        }    #T_f5c8ccaa_dd5a_11ea_aacb_723d654013bcrow5_col5 {\n",
       "            background-color:  #08306b;\n",
       "            color:  #f1f1f1;\n",
       "        }    #T_f5c8ccaa_dd5a_11ea_aacb_723d654013bcrow5_col6 {\n",
       "            background-color:  #08306b;\n",
       "            color:  #f1f1f1;\n",
       "        }    #T_f5c8ccaa_dd5a_11ea_aacb_723d654013bcrow6_col0 {\n",
       "            background-color:  #f6fcf4;\n",
       "            color:  #000000;\n",
       "        }    #T_f5c8ccaa_dd5a_11ea_aacb_723d654013bcrow6_col1 {\n",
       "            background-color:  #b2e0ac;\n",
       "            color:  #000000;\n",
       "        }    #T_f5c8ccaa_dd5a_11ea_aacb_723d654013bcrow6_col2 {\n",
       "            background-color:  #f7fcf5;\n",
       "            color:  #000000;\n",
       "        }    #T_f5c8ccaa_dd5a_11ea_aacb_723d654013bcrow6_col4 {\n",
       "            background-color:  #1d6cb1;\n",
       "            color:  #f1f1f1;\n",
       "        }    #T_f5c8ccaa_dd5a_11ea_aacb_723d654013bcrow6_col5 {\n",
       "            background-color:  #4090c5;\n",
       "            color:  #000000;\n",
       "        }    #T_f5c8ccaa_dd5a_11ea_aacb_723d654013bcrow6_col6 {\n",
       "            background-color:  #2c7cba;\n",
       "            color:  #000000;\n",
       "        }    #T_f5c8ccaa_dd5a_11ea_aacb_723d654013bcrow7_col0 {\n",
       "            background-color:  #004a1e;\n",
       "            color:  #f1f1f1;\n",
       "        }    #T_f5c8ccaa_dd5a_11ea_aacb_723d654013bcrow7_col1 {\n",
       "            background-color:  #1c8540;\n",
       "            color:  #000000;\n",
       "        }    #T_f5c8ccaa_dd5a_11ea_aacb_723d654013bcrow7_col2 {\n",
       "            background-color:  #50b264;\n",
       "            color:  #000000;\n",
       "        }    #T_f5c8ccaa_dd5a_11ea_aacb_723d654013bcrow7_col4 {\n",
       "            background-color:  #2070b4;\n",
       "            color:  #f1f1f1;\n",
       "        }    #T_f5c8ccaa_dd5a_11ea_aacb_723d654013bcrow7_col5 {\n",
       "            background-color:  #2979b9;\n",
       "            color:  #000000;\n",
       "        }    #T_f5c8ccaa_dd5a_11ea_aacb_723d654013bcrow7_col6 {\n",
       "            background-color:  #2373b6;\n",
       "            color:  #f1f1f1;\n",
       "        }    #T_f5c8ccaa_dd5a_11ea_aacb_723d654013bcrow8_col0 {\n",
       "            background-color:  #eff9ec;\n",
       "            color:  #000000;\n",
       "        }    #T_f5c8ccaa_dd5a_11ea_aacb_723d654013bcrow8_col1 {\n",
       "            background-color:  #f7fcf5;\n",
       "            color:  #000000;\n",
       "        }    #T_f5c8ccaa_dd5a_11ea_aacb_723d654013bcrow8_col2 {\n",
       "            background-color:  #005c25;\n",
       "            color:  #f1f1f1;\n",
       "        }    #T_f5c8ccaa_dd5a_11ea_aacb_723d654013bcrow8_col4 {\n",
       "            background-color:  #3585bf;\n",
       "            color:  #000000;\n",
       "        }    #T_f5c8ccaa_dd5a_11ea_aacb_723d654013bcrow8_col5 {\n",
       "            background-color:  #1967ad;\n",
       "            color:  #f1f1f1;\n",
       "        }    #T_f5c8ccaa_dd5a_11ea_aacb_723d654013bcrow8_col6 {\n",
       "            background-color:  #65aad4;\n",
       "            color:  #000000;\n",
       "        }    #T_f5c8ccaa_dd5a_11ea_aacb_723d654013bcrow9_col0 {\n",
       "            background-color:  #eff9eb;\n",
       "            color:  #000000;\n",
       "        }    #T_f5c8ccaa_dd5a_11ea_aacb_723d654013bcrow9_col1 {\n",
       "            background-color:  #d6efd0;\n",
       "            color:  #000000;\n",
       "        }    #T_f5c8ccaa_dd5a_11ea_aacb_723d654013bcrow9_col2 {\n",
       "            background-color:  #ecf8e8;\n",
       "            color:  #000000;\n",
       "        }    #T_f5c8ccaa_dd5a_11ea_aacb_723d654013bcrow9_col4 {\n",
       "            background-color:  #f7fbff;\n",
       "            color:  #000000;\n",
       "        }    #T_f5c8ccaa_dd5a_11ea_aacb_723d654013bcrow9_col5 {\n",
       "            background-color:  #f7fbff;\n",
       "            color:  #000000;\n",
       "        }    #T_f5c8ccaa_dd5a_11ea_aacb_723d654013bcrow9_col6 {\n",
       "            background-color:  #e9f2fa;\n",
       "            color:  #000000;\n",
       "        }    #T_f5c8ccaa_dd5a_11ea_aacb_723d654013bcrow10_col0 {\n",
       "            background-color:  #f0f9ed;\n",
       "            color:  #000000;\n",
       "        }    #T_f5c8ccaa_dd5a_11ea_aacb_723d654013bcrow10_col1 {\n",
       "            background-color:  #e3f4de;\n",
       "            color:  #000000;\n",
       "        }    #T_f5c8ccaa_dd5a_11ea_aacb_723d654013bcrow10_col2 {\n",
       "            background-color:  #ecf8e8;\n",
       "            color:  #000000;\n",
       "        }    #T_f5c8ccaa_dd5a_11ea_aacb_723d654013bcrow10_col4 {\n",
       "            background-color:  #afd1e7;\n",
       "            color:  #000000;\n",
       "        }    #T_f5c8ccaa_dd5a_11ea_aacb_723d654013bcrow10_col5 {\n",
       "            background-color:  #84bcdb;\n",
       "            color:  #000000;\n",
       "        }    #T_f5c8ccaa_dd5a_11ea_aacb_723d654013bcrow10_col6 {\n",
       "            background-color:  #9fcae1;\n",
       "            color:  #000000;\n",
       "        }    #T_f5c8ccaa_dd5a_11ea_aacb_723d654013bcrow11_col0 {\n",
       "            background-color:  #f7fcf5;\n",
       "            color:  #000000;\n",
       "        }    #T_f5c8ccaa_dd5a_11ea_aacb_723d654013bcrow11_col1 {\n",
       "            background-color:  #ebf7e7;\n",
       "            color:  #000000;\n",
       "        }    #T_f5c8ccaa_dd5a_11ea_aacb_723d654013bcrow11_col2 {\n",
       "            background-color:  #ddf2d8;\n",
       "            color:  #000000;\n",
       "        }    #T_f5c8ccaa_dd5a_11ea_aacb_723d654013bcrow11_col4 {\n",
       "            background-color:  #529dcc;\n",
       "            color:  #000000;\n",
       "        }    #T_f5c8ccaa_dd5a_11ea_aacb_723d654013bcrow11_col5 {\n",
       "            background-color:  #a8cee4;\n",
       "            color:  #000000;\n",
       "        }    #T_f5c8ccaa_dd5a_11ea_aacb_723d654013bcrow11_col6 {\n",
       "            background-color:  #66abd4;\n",
       "            color:  #000000;\n",
       "        }    #T_f5c8ccaa_dd5a_11ea_aacb_723d654013bcrow12_col0 {\n",
       "            background-color:  #53b466;\n",
       "            color:  #000000;\n",
       "        }    #T_f5c8ccaa_dd5a_11ea_aacb_723d654013bcrow12_col1 {\n",
       "            background-color:  #00451c;\n",
       "            color:  #f1f1f1;\n",
       "        }    #T_f5c8ccaa_dd5a_11ea_aacb_723d654013bcrow12_col2 {\n",
       "            background-color:  #228a44;\n",
       "            color:  #000000;\n",
       "        }    #T_f5c8ccaa_dd5a_11ea_aacb_723d654013bcrow12_col4 {\n",
       "            background-color:  #529dcc;\n",
       "            color:  #000000;\n",
       "        }    #T_f5c8ccaa_dd5a_11ea_aacb_723d654013bcrow12_col5 {\n",
       "            background-color:  #206fb4;\n",
       "            color:  #f1f1f1;\n",
       "        }    #T_f5c8ccaa_dd5a_11ea_aacb_723d654013bcrow12_col6 {\n",
       "            background-color:  #519ccc;\n",
       "            color:  #000000;\n",
       "        }</style><table id=\"T_f5c8ccaa_dd5a_11ea_aacb_723d654013bc\" ><thead>    <tr>        <th class=\"blank level0\" ></th>        <th class=\"col_heading level0 col0\" colspan=3>fidelity</th>        <th class=\"col_heading level0 col3\" >qstr</th>        <th class=\"col_heading level0 col4\" colspan=3>ndcg</th>    </tr>    <tr>        <th class=\"index_name level1\" >system</th>        <th class=\"col_heading level1 col0\" >DRMM</th>        <th class=\"col_heading level1 col1\" >MP-COS</th>        <th class=\"col_heading level1 col2\" >PACRR-DRMM</th>        <th class=\"col_heading level1 col3\" ></th>        <th class=\"col_heading level1 col4\" >DRMM</th>        <th class=\"col_heading level1 col5\" >MP-COS</th>        <th class=\"col_heading level1 col6\" >PACRR-DRMM</th>    </tr>    <tr>        <th class=\"index_name level0\" >query</th>        <th class=\"blank\" ></th>        <th class=\"blank\" ></th>        <th class=\"blank\" ></th>        <th class=\"blank\" ></th>        <th class=\"blank\" ></th>        <th class=\"blank\" ></th>        <th class=\"blank\" ></th>    </tr></thead><tbody>\n",
       "                <tr>\n",
       "                        <th id=\"T_f5c8ccaa_dd5a_11ea_aacb_723d654013bclevel0_row0\" class=\"row_heading level0 row0\" >328</th>\n",
       "                        <td id=\"T_f5c8ccaa_dd5a_11ea_aacb_723d654013bcrow0_col0\" class=\"data row0 col0\" >0.76</td>\n",
       "                        <td id=\"T_f5c8ccaa_dd5a_11ea_aacb_723d654013bcrow0_col1\" class=\"data row0 col1\" >0.80</td>\n",
       "                        <td id=\"T_f5c8ccaa_dd5a_11ea_aacb_723d654013bcrow0_col2\" class=\"data row0 col2\" >0.84</td>\n",
       "                        <td id=\"T_f5c8ccaa_dd5a_11ea_aacb_723d654013bcrow0_col3\" class=\"data row0 col3\" >Pope Beatifications</td>\n",
       "                        <td id=\"T_f5c8ccaa_dd5a_11ea_aacb_723d654013bcrow0_col4\" class=\"data row0 col4\" >0.74</td>\n",
       "                        <td id=\"T_f5c8ccaa_dd5a_11ea_aacb_723d654013bcrow0_col5\" class=\"data row0 col5\" >0.67</td>\n",
       "                        <td id=\"T_f5c8ccaa_dd5a_11ea_aacb_723d654013bcrow0_col6\" class=\"data row0 col6\" >0.80</td>\n",
       "            </tr>\n",
       "            <tr>\n",
       "                        <th id=\"T_f5c8ccaa_dd5a_11ea_aacb_723d654013bclevel0_row1\" class=\"row_heading level0 row1\" >329</th>\n",
       "                        <td id=\"T_f5c8ccaa_dd5a_11ea_aacb_723d654013bcrow1_col0\" class=\"data row1 col0\" >0.72</td>\n",
       "                        <td id=\"T_f5c8ccaa_dd5a_11ea_aacb_723d654013bcrow1_col1\" class=\"data row1 col1\" >0.64</td>\n",
       "                        <td id=\"T_f5c8ccaa_dd5a_11ea_aacb_723d654013bcrow1_col2\" class=\"data row1 col2\" >0.60</td>\n",
       "                        <td id=\"T_f5c8ccaa_dd5a_11ea_aacb_723d654013bcrow1_col3\" class=\"data row1 col3\" >Mexican Air Pollution</td>\n",
       "                        <td id=\"T_f5c8ccaa_dd5a_11ea_aacb_723d654013bcrow1_col4\" class=\"data row1 col4\" >0.70</td>\n",
       "                        <td id=\"T_f5c8ccaa_dd5a_11ea_aacb_723d654013bcrow1_col5\" class=\"data row1 col5\" >0.38</td>\n",
       "                        <td id=\"T_f5c8ccaa_dd5a_11ea_aacb_723d654013bcrow1_col6\" class=\"data row1 col6\" >0.62</td>\n",
       "            </tr>\n",
       "            <tr>\n",
       "                        <th id=\"T_f5c8ccaa_dd5a_11ea_aacb_723d654013bclevel0_row2\" class=\"row_heading level0 row2\" >336</th>\n",
       "                        <td id=\"T_f5c8ccaa_dd5a_11ea_aacb_723d654013bcrow2_col0\" class=\"data row2 col0\" >0.59</td>\n",
       "                        <td id=\"T_f5c8ccaa_dd5a_11ea_aacb_723d654013bcrow2_col1\" class=\"data row2 col1\" >0.58</td>\n",
       "                        <td id=\"T_f5c8ccaa_dd5a_11ea_aacb_723d654013bcrow2_col2\" class=\"data row2 col2\" >0.63</td>\n",
       "                        <td id=\"T_f5c8ccaa_dd5a_11ea_aacb_723d654013bcrow2_col3\" class=\"data row2 col3\" >Black Bear Attacks</td>\n",
       "                        <td id=\"T_f5c8ccaa_dd5a_11ea_aacb_723d654013bcrow2_col4\" class=\"data row2 col4\" >0.28</td>\n",
       "                        <td id=\"T_f5c8ccaa_dd5a_11ea_aacb_723d654013bcrow2_col5\" class=\"data row2 col5\" >0.16</td>\n",
       "                        <td id=\"T_f5c8ccaa_dd5a_11ea_aacb_723d654013bcrow2_col6\" class=\"data row2 col6\" >0.22</td>\n",
       "            </tr>\n",
       "            <tr>\n",
       "                        <th id=\"T_f5c8ccaa_dd5a_11ea_aacb_723d654013bclevel0_row3\" class=\"row_heading level0 row3\" >344</th>\n",
       "                        <td id=\"T_f5c8ccaa_dd5a_11ea_aacb_723d654013bcrow3_col0\" class=\"data row3 col0\" >0.57</td>\n",
       "                        <td id=\"T_f5c8ccaa_dd5a_11ea_aacb_723d654013bcrow3_col1\" class=\"data row3 col1\" >0.55</td>\n",
       "                        <td id=\"T_f5c8ccaa_dd5a_11ea_aacb_723d654013bcrow3_col2\" class=\"data row3 col2\" >0.60</td>\n",
       "                        <td id=\"T_f5c8ccaa_dd5a_11ea_aacb_723d654013bcrow3_col3\" class=\"data row3 col3\" >Abuses of E-Mail</td>\n",
       "                        <td id=\"T_f5c8ccaa_dd5a_11ea_aacb_723d654013bcrow3_col4\" class=\"data row3 col4\" >0.26</td>\n",
       "                        <td id=\"T_f5c8ccaa_dd5a_11ea_aacb_723d654013bcrow3_col5\" class=\"data row3 col5\" >0.27</td>\n",
       "                        <td id=\"T_f5c8ccaa_dd5a_11ea_aacb_723d654013bcrow3_col6\" class=\"data row3 col6\" >0.33</td>\n",
       "            </tr>\n",
       "            <tr>\n",
       "                        <th id=\"T_f5c8ccaa_dd5a_11ea_aacb_723d654013bclevel0_row4\" class=\"row_heading level0 row4\" >352</th>\n",
       "                        <td id=\"T_f5c8ccaa_dd5a_11ea_aacb_723d654013bcrow4_col0\" class=\"data row4 col0\" >0.64</td>\n",
       "                        <td id=\"T_f5c8ccaa_dd5a_11ea_aacb_723d654013bcrow4_col1\" class=\"data row4 col1\" >0.56</td>\n",
       "                        <td id=\"T_f5c8ccaa_dd5a_11ea_aacb_723d654013bcrow4_col2\" class=\"data row4 col2\" >0.61</td>\n",
       "                        <td id=\"T_f5c8ccaa_dd5a_11ea_aacb_723d654013bcrow4_col3\" class=\"data row4 col3\" >British Chunnel impact</td>\n",
       "                        <td id=\"T_f5c8ccaa_dd5a_11ea_aacb_723d654013bcrow4_col4\" class=\"data row4 col4\" >0.15</td>\n",
       "                        <td id=\"T_f5c8ccaa_dd5a_11ea_aacb_723d654013bcrow4_col5\" class=\"data row4 col5\" >0.17</td>\n",
       "                        <td id=\"T_f5c8ccaa_dd5a_11ea_aacb_723d654013bcrow4_col6\" class=\"data row4 col6\" >0.15</td>\n",
       "            </tr>\n",
       "            <tr>\n",
       "                        <th id=\"T_f5c8ccaa_dd5a_11ea_aacb_723d654013bclevel0_row5\" class=\"row_heading level0 row5\" >356</th>\n",
       "                        <td id=\"T_f5c8ccaa_dd5a_11ea_aacb_723d654013bcrow5_col0\" class=\"data row5 col0\" >0.61</td>\n",
       "                        <td id=\"T_f5c8ccaa_dd5a_11ea_aacb_723d654013bcrow5_col1\" class=\"data row5 col1\" >0.73</td>\n",
       "                        <td id=\"T_f5c8ccaa_dd5a_11ea_aacb_723d654013bcrow5_col2\" class=\"data row5 col2\" >0.60</td>\n",
       "                        <td id=\"T_f5c8ccaa_dd5a_11ea_aacb_723d654013bcrow5_col3\" class=\"data row5 col3\" >postmenopausal estrogen Britain</td>\n",
       "                        <td id=\"T_f5c8ccaa_dd5a_11ea_aacb_723d654013bcrow5_col4\" class=\"data row5 col4\" >0.15</td>\n",
       "                        <td id=\"T_f5c8ccaa_dd5a_11ea_aacb_723d654013bcrow5_col5\" class=\"data row5 col5\" >0.10</td>\n",
       "                        <td id=\"T_f5c8ccaa_dd5a_11ea_aacb_723d654013bcrow5_col6\" class=\"data row5 col6\" >0.10</td>\n",
       "            </tr>\n",
       "            <tr>\n",
       "                        <th id=\"T_f5c8ccaa_dd5a_11ea_aacb_723d654013bclevel0_row6\" class=\"row_heading level0 row6\" >367</th>\n",
       "                        <td id=\"T_f5c8ccaa_dd5a_11ea_aacb_723d654013bcrow6_col0\" class=\"data row6 col0\" >0.82</td>\n",
       "                        <td id=\"T_f5c8ccaa_dd5a_11ea_aacb_723d654013bcrow6_col1\" class=\"data row6 col1\" >0.74</td>\n",
       "                        <td id=\"T_f5c8ccaa_dd5a_11ea_aacb_723d654013bcrow6_col2\" class=\"data row6 col2\" >0.87</td>\n",
       "                        <td id=\"T_f5c8ccaa_dd5a_11ea_aacb_723d654013bcrow6_col3\" class=\"data row6 col3\" >piracy</td>\n",
       "                        <td id=\"T_f5c8ccaa_dd5a_11ea_aacb_723d654013bcrow6_col4\" class=\"data row6 col4\" >0.29</td>\n",
       "                        <td id=\"T_f5c8ccaa_dd5a_11ea_aacb_723d654013bcrow6_col5\" class=\"data row6 col5\" >0.34</td>\n",
       "                        <td id=\"T_f5c8ccaa_dd5a_11ea_aacb_723d654013bcrow6_col6\" class=\"data row6 col6\" >0.31</td>\n",
       "            </tr>\n",
       "            <tr>\n",
       "                        <th id=\"T_f5c8ccaa_dd5a_11ea_aacb_723d654013bclevel0_row7\" class=\"row_heading level0 row7\" >399</th>\n",
       "                        <td id=\"T_f5c8ccaa_dd5a_11ea_aacb_723d654013bcrow7_col0\" class=\"data row7 col0\" >0.57</td>\n",
       "                        <td id=\"T_f5c8ccaa_dd5a_11ea_aacb_723d654013bcrow7_col1\" class=\"data row7 col1\" >0.61</td>\n",
       "                        <td id=\"T_f5c8ccaa_dd5a_11ea_aacb_723d654013bcrow7_col2\" class=\"data row7 col2\" >0.71</td>\n",
       "                        <td id=\"T_f5c8ccaa_dd5a_11ea_aacb_723d654013bcrow7_col3\" class=\"data row7 col3\" >oceanographic vessels</td>\n",
       "                        <td id=\"T_f5c8ccaa_dd5a_11ea_aacb_723d654013bcrow7_col4\" class=\"data row7 col4\" >0.30</td>\n",
       "                        <td id=\"T_f5c8ccaa_dd5a_11ea_aacb_723d654013bcrow7_col5\" class=\"data row7 col5\" >0.28</td>\n",
       "                        <td id=\"T_f5c8ccaa_dd5a_11ea_aacb_723d654013bcrow7_col6\" class=\"data row7 col6\" >0.28</td>\n",
       "            </tr>\n",
       "            <tr>\n",
       "                        <th id=\"T_f5c8ccaa_dd5a_11ea_aacb_723d654013bclevel0_row8\" class=\"row_heading level0 row8\" >409</th>\n",
       "                        <td id=\"T_f5c8ccaa_dd5a_11ea_aacb_723d654013bcrow8_col0\" class=\"data row8 col0\" >0.81</td>\n",
       "                        <td id=\"T_f5c8ccaa_dd5a_11ea_aacb_723d654013bcrow8_col1\" class=\"data row8 col1\" >0.84</td>\n",
       "                        <td id=\"T_f5c8ccaa_dd5a_11ea_aacb_723d654013bcrow8_col2\" class=\"data row8 col2\" >0.62</td>\n",
       "                        <td id=\"T_f5c8ccaa_dd5a_11ea_aacb_723d654013bcrow8_col3\" class=\"data row8 col3\" >legal, Pan Am, 103</td>\n",
       "                        <td id=\"T_f5c8ccaa_dd5a_11ea_aacb_723d654013bcrow8_col4\" class=\"data row8 col4\" >0.35</td>\n",
       "                        <td id=\"T_f5c8ccaa_dd5a_11ea_aacb_723d654013bcrow8_col5\" class=\"data row8 col5\" >0.24</td>\n",
       "                        <td id=\"T_f5c8ccaa_dd5a_11ea_aacb_723d654013bcrow8_col6\" class=\"data row8 col6\" >0.44</td>\n",
       "            </tr>\n",
       "            <tr>\n",
       "                        <th id=\"T_f5c8ccaa_dd5a_11ea_aacb_723d654013bclevel0_row9\" class=\"row_heading level0 row9\" >425</th>\n",
       "                        <td id=\"T_f5c8ccaa_dd5a_11ea_aacb_723d654013bcrow9_col0\" class=\"data row9 col0\" >0.81</td>\n",
       "                        <td id=\"T_f5c8ccaa_dd5a_11ea_aacb_723d654013bcrow9_col1\" class=\"data row9 col1\" >0.78</td>\n",
       "                        <td id=\"T_f5c8ccaa_dd5a_11ea_aacb_723d654013bcrow9_col2\" class=\"data row9 col2\" >0.85</td>\n",
       "                        <td id=\"T_f5c8ccaa_dd5a_11ea_aacb_723d654013bcrow9_col3\" class=\"data row9 col3\" >counterfeiting money</td>\n",
       "                        <td id=\"T_f5c8ccaa_dd5a_11ea_aacb_723d654013bcrow9_col4\" class=\"data row9 col4\" >0.77</td>\n",
       "                        <td id=\"T_f5c8ccaa_dd5a_11ea_aacb_723d654013bcrow9_col5\" class=\"data row9 col5\" >0.74</td>\n",
       "                        <td id=\"T_f5c8ccaa_dd5a_11ea_aacb_723d654013bcrow9_col6\" class=\"data row9 col6\" >0.75</td>\n",
       "            </tr>\n",
       "            <tr>\n",
       "                        <th id=\"T_f5c8ccaa_dd5a_11ea_aacb_723d654013bclevel0_row10\" class=\"row_heading level0 row10\" >612</th>\n",
       "                        <td id=\"T_f5c8ccaa_dd5a_11ea_aacb_723d654013bcrow10_col0\" class=\"data row10 col0\" >0.81</td>\n",
       "                        <td id=\"T_f5c8ccaa_dd5a_11ea_aacb_723d654013bcrow10_col1\" class=\"data row10 col1\" >0.80</td>\n",
       "                        <td id=\"T_f5c8ccaa_dd5a_11ea_aacb_723d654013bcrow10_col2\" class=\"data row10 col2\" >0.85</td>\n",
       "                        <td id=\"T_f5c8ccaa_dd5a_11ea_aacb_723d654013bcrow10_col3\" class=\"data row10 col3\" >Tibet protesters</td>\n",
       "                        <td id=\"T_f5c8ccaa_dd5a_11ea_aacb_723d654013bcrow10_col4\" class=\"data row10 col4\" >0.57</td>\n",
       "                        <td id=\"T_f5c8ccaa_dd5a_11ea_aacb_723d654013bcrow10_col5\" class=\"data row10 col5\" >0.46</td>\n",
       "                        <td id=\"T_f5c8ccaa_dd5a_11ea_aacb_723d654013bcrow10_col6\" class=\"data row10 col6\" >0.54</td>\n",
       "            </tr>\n",
       "            <tr>\n",
       "                        <th id=\"T_f5c8ccaa_dd5a_11ea_aacb_723d654013bclevel0_row11\" class=\"row_heading level0 row11\" >618</th>\n",
       "                        <td id=\"T_f5c8ccaa_dd5a_11ea_aacb_723d654013bcrow11_col0\" class=\"data row11 col0\" >0.82</td>\n",
       "                        <td id=\"T_f5c8ccaa_dd5a_11ea_aacb_723d654013bcrow11_col1\" class=\"data row11 col1\" >0.81</td>\n",
       "                        <td id=\"T_f5c8ccaa_dd5a_11ea_aacb_723d654013bcrow11_col2\" class=\"data row11 col2\" >0.83</td>\n",
       "                        <td id=\"T_f5c8ccaa_dd5a_11ea_aacb_723d654013bcrow11_col3\" class=\"data row11 col3\" >Ayatollah Khomeini death</td>\n",
       "                        <td id=\"T_f5c8ccaa_dd5a_11ea_aacb_723d654013bcrow11_col4\" class=\"data row11 col4\" >0.41</td>\n",
       "                        <td id=\"T_f5c8ccaa_dd5a_11ea_aacb_723d654013bcrow11_col5\" class=\"data row11 col5\" >0.52</td>\n",
       "                        <td id=\"T_f5c8ccaa_dd5a_11ea_aacb_723d654013bcrow11_col6\" class=\"data row11 col6\" >0.44</td>\n",
       "            </tr>\n",
       "            <tr>\n",
       "                        <th id=\"T_f5c8ccaa_dd5a_11ea_aacb_723d654013bclevel0_row12\" class=\"row_heading level0 row12\" >684</th>\n",
       "                        <td id=\"T_f5c8ccaa_dd5a_11ea_aacb_723d654013bcrow12_col0\" class=\"data row12 col0\" >0.67</td>\n",
       "                        <td id=\"T_f5c8ccaa_dd5a_11ea_aacb_723d654013bcrow12_col1\" class=\"data row12 col1\" >0.55</td>\n",
       "                        <td id=\"T_f5c8ccaa_dd5a_11ea_aacb_723d654013bcrow12_col2\" class=\"data row12 col2\" >0.66</td>\n",
       "                        <td id=\"T_f5c8ccaa_dd5a_11ea_aacb_723d654013bcrow12_col3\" class=\"data row12 col3\" >part-time benefits</td>\n",
       "                        <td id=\"T_f5c8ccaa_dd5a_11ea_aacb_723d654013bcrow12_col4\" class=\"data row12 col4\" >0.41</td>\n",
       "                        <td id=\"T_f5c8ccaa_dd5a_11ea_aacb_723d654013bcrow12_col5\" class=\"data row12 col5\" >0.26</td>\n",
       "                        <td id=\"T_f5c8ccaa_dd5a_11ea_aacb_723d654013bcrow12_col6\" class=\"data row12 col6\" >0.39</td>\n",
       "            </tr>\n",
       "    </tbody></table>"
      ],
      "text/plain": [
       "<pandas.io.formats.style.Styler at 0x7f664bc44b90>"
      ]
     },
     "metadata": {},
     "output_type": "display_data"
    },
    {
     "data": {
      "text/plain": [
       "<seaborn.axisgrid.FacetGrid at 0x7f664e20db10>"
      ]
     },
     "metadata": {},
     "output_type": "display_data"
    },
    {
     "data": {
      "image/png": "[encoded data removed]",
      "text/plain": [
       "<Figure size 463.875x360 with 1 Axes>"
      ]
     },
     "metadata": {},
     "output_type": "display_data"
    }
   ],
   "source": [
    "k = 3\n",
    "bestworst = query_local_stats.copy()\n",
    "bestworst['acc_rank'] = bestworst.sort_values('cv_accuracy_mean').rank().cv_accuracy_mean\n",
    "extreme_queries = bestworst.sort_values('cv_accuracy_mean').groupby('system').take(np.r_[0:k,-k:0])['query'].unique()\n",
    "bestworst = bestworst[bestworst['query'].isin(extreme_queries)]\n",
    "bestworst = bestworst.reset_index()\n",
    "bestworst = bestworst.pivot(index='query', columns='system')\n",
    "bestworst['qstr'] = bestworst.index.map(topics.get)\n",
    "bestworst = bestworst[['fidelity', 'qstr', 'ndcg']]\n",
    "display(\n",
    "bestworst.style.background_gradient(cmap='Greens_r', subset=['fidelity']).background_gradient(cmap='Blues_r', subset=['ndcg']).format('{:.2f}', subset=['fidelity', 'ndcg']),\n",
    "sns.lmplot('ndcg', 'fidelity', query_local_stats, hue='system')\n",
    ")"
   ]
  },
  {
   "cell_type": "code",
   "execution_count": 690,
   "metadata": {},
   "outputs": [
    {
     "data": {
      "text/html": [
       "<div>\n",
       "<style scoped>\n",
       "    .dataframe tbody tr th:only-of-type {\n",
       "        vertical-align: middle;\n",
       "    }\n",
       "\n",
       "    .dataframe tbody tr th {\n",
       "        vertical-align: top;\n",
       "    }\n",
       "\n",
       "    .dataframe thead th {\n",
       "        text-align: right;\n",
       "    }\n",
       "</style>\n",
       "<table border=\"1\" class=\"dataframe\">\n",
       "  <thead>\n",
       "    <tr style=\"text-align: right;\">\n",
       "      <th></th>\n",
       "      <th></th>\n",
       "      <th>ndcg</th>\n",
       "      <th>fidelity</th>\n",
       "    </tr>\n",
       "    <tr>\n",
       "      <th>system</th>\n",
       "      <th></th>\n",
       "      <th></th>\n",
       "      <th></th>\n",
       "    </tr>\n",
       "  </thead>\n",
       "  <tbody>\n",
       "    <tr>\n",
       "      <th rowspan=\"2\" valign=\"top\">DRMM</th>\n",
       "      <th>ndcg</th>\n",
       "      <td>1.000000</td>\n",
       "      <td>0.156905</td>\n",
       "    </tr>\n",
       "    <tr>\n",
       "      <th>fidelity</th>\n",
       "      <td>0.156905</td>\n",
       "      <td>1.000000</td>\n",
       "    </tr>\n",
       "    <tr>\n",
       "      <th rowspan=\"2\" valign=\"top\">MP-COS</th>\n",
       "      <th>ndcg</th>\n",
       "      <td>1.000000</td>\n",
       "      <td>0.264035</td>\n",
       "    </tr>\n",
       "    <tr>\n",
       "      <th>fidelity</th>\n",
       "      <td>0.264035</td>\n",
       "      <td>1.000000</td>\n",
       "    </tr>\n",
       "    <tr>\n",
       "      <th rowspan=\"2\" valign=\"top\">PACRR-DRMM</th>\n",
       "      <th>ndcg</th>\n",
       "      <td>1.000000</td>\n",
       "      <td>0.202894</td>\n",
       "    </tr>\n",
       "    <tr>\n",
       "      <th>fidelity</th>\n",
       "      <td>0.202894</td>\n",
       "      <td>1.000000</td>\n",
       "    </tr>\n",
       "  </tbody>\n",
       "</table>\n",
       "</div>"
      ],
      "text/plain": [
       "                         ndcg  fidelity\n",
       "system                                 \n",
       "DRMM       ndcg      1.000000  0.156905\n",
       "           fidelity  0.156905  1.000000\n",
       "MP-COS     ndcg      1.000000  0.264035\n",
       "           fidelity  0.264035  1.000000\n",
       "PACRR-DRMM ndcg      1.000000  0.202894\n",
       "           fidelity  0.202894  1.000000"
      ]
     },
     "execution_count": 690,
     "metadata": {},
     "output_type": "execute_result"
    }
   ],
   "source": [
    "query_local_stats.groupby('system')[['ndcg', 'fidelity']].corr(method='spearman')"
   ]
  },
  {
   "cell_type": "code",
   "execution_count": 36,
   "metadata": {},
   "outputs": [
    {
     "data": {
      "text/plain": [
       "Index(['ax_AND', 'ax_DIV', 'ax_LB1', 'ax_LNC1', 'ax_M_AND', 'ax_M_TDC',\n",
       "       'ax_PROX1', 'ax_PROX2', 'ax_PROX3', 'ax_PROX4', 'ax_PROX5', 'ax_REG',\n",
       "       'ax_STMC1', 'ax_STMC1_f', 'ax_STMC1_fr', 'ax_STMC2', 'ax_STMC2_f',\n",
       "       'ax_STMC2_fr', 'ax_TFC1', 'ax_TFC3', 'ax_TF_LNC',\n",
       "       'bm25_preference_opposite', 'concordant', 'id1', 'id1_pos_in_bm25',\n",
       "       'id1_relevance', 'id1_score', 'id2', 'id2_pos_in_bm25', 'id2_relevance',\n",
       "       'id2_score', 'qrel_preference', 'query', 'rankdiff', 'scorediff',\n",
       "       'system', 'upper_rank', 'upper_score', 'qid', 'lower_rank',\n",
       "       'lower_score'],\n",
       "      dtype='object')"
      ]
     },
     "execution_count": 36,
     "metadata": {},
     "output_type": "execute_result"
    }
   ],
   "source": [
    "all_concordant_pairs.columns"
   ]
  },
  {
   "cell_type": "code",
   "execution_count": 145,
   "metadata": {},
   "outputs": [
    {
     "data": {
      "text/html": [
       "<div>\n",
       "<style scoped>\n",
       "    .dataframe tbody tr th:only-of-type {\n",
       "        vertical-align: middle;\n",
       "    }\n",
       "\n",
       "    .dataframe tbody tr th {\n",
       "        vertical-align: top;\n",
       "    }\n",
       "\n",
       "    .dataframe thead th {\n",
       "        text-align: right;\n",
       "    }\n",
       "</style>\n",
       "<table border=\"1\" class=\"dataframe\">\n",
       "  <thead>\n",
       "    <tr style=\"text-align: right;\">\n",
       "      <th></th>\n",
       "      <th>id2_pos_in_bm25</th>\n",
       "      <th>query</th>\n",
       "      <th>lower_rank</th>\n",
       "      <th>system</th>\n",
       "      <th>id2_relevance</th>\n",
       "      <th>concordant</th>\n",
       "      <th>id1</th>\n",
       "      <th>upper_rank</th>\n",
       "      <th>upper_score</th>\n",
       "      <th>bm25_preference_opposite</th>\n",
       "      <th>...</th>\n",
       "      <th>id1_relevance</th>\n",
       "      <th>qid</th>\n",
       "      <th>id1_score</th>\n",
       "      <th>id2</th>\n",
       "      <th>scorediff</th>\n",
       "      <th>qrel_preference</th>\n",
       "      <th>id2_score</th>\n",
       "      <th>axiom</th>\n",
       "      <th>preference</th>\n",
       "      <th>abs_preference</th>\n",
       "    </tr>\n",
       "  </thead>\n",
       "  <tbody>\n",
       "    <tr>\n",
       "      <th>1</th>\n",
       "      <td>13</td>\n",
       "      <td>425</td>\n",
       "      <td>0</td>\n",
       "      <td>PACRR-DRMM</td>\n",
       "      <td>1</td>\n",
       "      <td>1</td>\n",
       "      <td>FBIS3-54773</td>\n",
       "      <td>1</td>\n",
       "      <td>9.927786</td>\n",
       "      <td>False</td>\n",
       "      <td>...</td>\n",
       "      <td>1</td>\n",
       "      <td>425</td>\n",
       "      <td>0</td>\n",
       "      <td>LA102189-0077</td>\n",
       "      <td>0.372280</td>\n",
       "      <td>correct</td>\n",
       "      <td>0</td>\n",
       "      <td>ax_AND</td>\n",
       "      <td>0</td>\n",
       "      <td>0</td>\n",
       "    </tr>\n",
       "    <tr>\n",
       "      <th>21</th>\n",
       "      <td>5</td>\n",
       "      <td>425</td>\n",
       "      <td>0</td>\n",
       "      <td>DRMM</td>\n",
       "      <td>1</td>\n",
       "      <td>1</td>\n",
       "      <td>LA091590-0091</td>\n",
       "      <td>1</td>\n",
       "      <td>8.123950</td>\n",
       "      <td>False</td>\n",
       "      <td>...</td>\n",
       "      <td>1</td>\n",
       "      <td>425</td>\n",
       "      <td>0</td>\n",
       "      <td>FBIS4-47199</td>\n",
       "      <td>0.021278</td>\n",
       "      <td>correct</td>\n",
       "      <td>0</td>\n",
       "      <td>ax_AND</td>\n",
       "      <td>0</td>\n",
       "      <td>0</td>\n",
       "    </tr>\n",
       "    <tr>\n",
       "      <th>24</th>\n",
       "      <td>2</td>\n",
       "      <td>425</td>\n",
       "      <td>0</td>\n",
       "      <td>MP-COS</td>\n",
       "      <td>1</td>\n",
       "      <td>1</td>\n",
       "      <td>FBIS3-58171</td>\n",
       "      <td>1</td>\n",
       "      <td>4.209301</td>\n",
       "      <td>True</td>\n",
       "      <td>...</td>\n",
       "      <td>1</td>\n",
       "      <td>425</td>\n",
       "      <td>0</td>\n",
       "      <td>FBIS4-46741</td>\n",
       "      <td>0.020547</td>\n",
       "      <td>correct</td>\n",
       "      <td>0</td>\n",
       "      <td>ax_AND</td>\n",
       "      <td>0</td>\n",
       "      <td>0</td>\n",
       "    </tr>\n",
       "    <tr>\n",
       "      <th>30</th>\n",
       "      <td>15</td>\n",
       "      <td>425</td>\n",
       "      <td>1</td>\n",
       "      <td>DRMM</td>\n",
       "      <td>1</td>\n",
       "      <td>1</td>\n",
       "      <td>FBIS4-47199</td>\n",
       "      <td>8</td>\n",
       "      <td>7.974010</td>\n",
       "      <td>False</td>\n",
       "      <td>...</td>\n",
       "      <td>1</td>\n",
       "      <td>425</td>\n",
       "      <td>0</td>\n",
       "      <td>FT943-14585</td>\n",
       "      <td>0.149940</td>\n",
       "      <td>correct</td>\n",
       "      <td>0</td>\n",
       "      <td>ax_AND</td>\n",
       "      <td>0</td>\n",
       "      <td>0</td>\n",
       "    </tr>\n",
       "    <tr>\n",
       "      <th>31</th>\n",
       "      <td>23</td>\n",
       "      <td>425</td>\n",
       "      <td>1</td>\n",
       "      <td>DRMM</td>\n",
       "      <td>1</td>\n",
       "      <td>1</td>\n",
       "      <td>FBIS4-47199</td>\n",
       "      <td>5</td>\n",
       "      <td>8.037231</td>\n",
       "      <td>False</td>\n",
       "      <td>...</td>\n",
       "      <td>1</td>\n",
       "      <td>425</td>\n",
       "      <td>0</td>\n",
       "      <td>FBIS4-46047</td>\n",
       "      <td>0.086719</td>\n",
       "      <td>correct</td>\n",
       "      <td>0</td>\n",
       "      <td>ax_AND</td>\n",
       "      <td>0</td>\n",
       "      <td>0</td>\n",
       "    </tr>\n",
       "    <tr>\n",
       "      <th>...</th>\n",
       "      <td>...</td>\n",
       "      <td>...</td>\n",
       "      <td>...</td>\n",
       "      <td>...</td>\n",
       "      <td>...</td>\n",
       "      <td>...</td>\n",
       "      <td>...</td>\n",
       "      <td>...</td>\n",
       "      <td>...</td>\n",
       "      <td>...</td>\n",
       "      <td>...</td>\n",
       "      <td>...</td>\n",
       "      <td>...</td>\n",
       "      <td>...</td>\n",
       "      <td>...</td>\n",
       "      <td>...</td>\n",
       "      <td>...</td>\n",
       "      <td>...</td>\n",
       "      <td>...</td>\n",
       "      <td>...</td>\n",
       "      <td>...</td>\n",
       "    </tr>\n",
       "    <tr>\n",
       "      <th>3352</th>\n",
       "      <td>1</td>\n",
       "      <td>425</td>\n",
       "      <td>1</td>\n",
       "      <td>MP-COS</td>\n",
       "      <td>1</td>\n",
       "      <td>1</td>\n",
       "      <td>FBIS4-46741</td>\n",
       "      <td>4</td>\n",
       "      <td>3.847004</td>\n",
       "      <td>True</td>\n",
       "      <td>...</td>\n",
       "      <td>1</td>\n",
       "      <td>425</td>\n",
       "      <td>0</td>\n",
       "      <td>FBIS3-54773</td>\n",
       "      <td>0.362297</td>\n",
       "      <td>correct</td>\n",
       "      <td>0</td>\n",
       "      <td>ax_TF_LNC</td>\n",
       "      <td>0</td>\n",
       "      <td>0</td>\n",
       "    </tr>\n",
       "    <tr>\n",
       "      <th>3353</th>\n",
       "      <td>2</td>\n",
       "      <td>425</td>\n",
       "      <td>1</td>\n",
       "      <td>DRMM</td>\n",
       "      <td>1</td>\n",
       "      <td>1</td>\n",
       "      <td>FBIS4-47199</td>\n",
       "      <td>3</td>\n",
       "      <td>8.057719</td>\n",
       "      <td>True</td>\n",
       "      <td>...</td>\n",
       "      <td>1</td>\n",
       "      <td>425</td>\n",
       "      <td>0</td>\n",
       "      <td>FBIS4-46741</td>\n",
       "      <td>0.066231</td>\n",
       "      <td>correct</td>\n",
       "      <td>0</td>\n",
       "      <td>ax_TF_LNC</td>\n",
       "      <td>0</td>\n",
       "      <td>0</td>\n",
       "    </tr>\n",
       "    <tr>\n",
       "      <th>3354</th>\n",
       "      <td>26</td>\n",
       "      <td>425</td>\n",
       "      <td>1</td>\n",
       "      <td>PACRR-DRMM</td>\n",
       "      <td>1</td>\n",
       "      <td>1</td>\n",
       "      <td>LA102189-0077</td>\n",
       "      <td>9</td>\n",
       "      <td>8.806437</td>\n",
       "      <td>False</td>\n",
       "      <td>...</td>\n",
       "      <td>1</td>\n",
       "      <td>425</td>\n",
       "      <td>0</td>\n",
       "      <td>LA071389-0111</td>\n",
       "      <td>1.121349</td>\n",
       "      <td>correct</td>\n",
       "      <td>0</td>\n",
       "      <td>ax_TF_LNC</td>\n",
       "      <td>0</td>\n",
       "      <td>0</td>\n",
       "    </tr>\n",
       "    <tr>\n",
       "      <th>3355</th>\n",
       "      <td>11</td>\n",
       "      <td>425</td>\n",
       "      <td>1</td>\n",
       "      <td>PACRR-DRMM</td>\n",
       "      <td>1</td>\n",
       "      <td>1</td>\n",
       "      <td>LA102189-0077</td>\n",
       "      <td>10</td>\n",
       "      <td>8.618130</td>\n",
       "      <td>True</td>\n",
       "      <td>...</td>\n",
       "      <td>1</td>\n",
       "      <td>425</td>\n",
       "      <td>0</td>\n",
       "      <td>FBIS3-10532</td>\n",
       "      <td>1.309656</td>\n",
       "      <td>correct</td>\n",
       "      <td>0</td>\n",
       "      <td>ax_TF_LNC</td>\n",
       "      <td>0</td>\n",
       "      <td>0</td>\n",
       "    </tr>\n",
       "    <tr>\n",
       "      <th>3356</th>\n",
       "      <td>26</td>\n",
       "      <td>425</td>\n",
       "      <td>1</td>\n",
       "      <td>DRMM</td>\n",
       "      <td>1</td>\n",
       "      <td>1</td>\n",
       "      <td>FBIS4-47199</td>\n",
       "      <td>6</td>\n",
       "      <td>8.009920</td>\n",
       "      <td>False</td>\n",
       "      <td>...</td>\n",
       "      <td>1</td>\n",
       "      <td>425</td>\n",
       "      <td>0</td>\n",
       "      <td>LA071389-0111</td>\n",
       "      <td>0.114030</td>\n",
       "      <td>correct</td>\n",
       "      <td>0</td>\n",
       "      <td>ax_TF_LNC</td>\n",
       "      <td>0</td>\n",
       "      <td>0</td>\n",
       "    </tr>\n",
       "  </tbody>\n",
       "</table>\n",
       "<p>630 rows × 23 columns</p>\n",
       "</div>"
      ],
      "text/plain": [
       "     id2_pos_in_bm25 query  lower_rank      system id2_relevance  concordant  \\\n",
       "1                 13   425           0  PACRR-DRMM             1           1   \n",
       "21                 5   425           0        DRMM             1           1   \n",
       "24                 2   425           0      MP-COS             1           1   \n",
       "30                15   425           1        DRMM             1           1   \n",
       "31                23   425           1        DRMM             1           1   \n",
       "...              ...   ...         ...         ...           ...         ...   \n",
       "3352               1   425           1      MP-COS             1           1   \n",
       "3353               2   425           1        DRMM             1           1   \n",
       "3354              26   425           1  PACRR-DRMM             1           1   \n",
       "3355              11   425           1  PACRR-DRMM             1           1   \n",
       "3356              26   425           1        DRMM             1           1   \n",
       "\n",
       "                id1  upper_rank  upper_score  bm25_preference_opposite  ...  \\\n",
       "1       FBIS3-54773           1     9.927786                     False  ...   \n",
       "21    LA091590-0091           1     8.123950                     False  ...   \n",
       "24      FBIS3-58171           1     4.209301                      True  ...   \n",
       "30      FBIS4-47199           8     7.974010                     False  ...   \n",
       "31      FBIS4-47199           5     8.037231                     False  ...   \n",
       "...             ...         ...          ...                       ...  ...   \n",
       "3352    FBIS4-46741           4     3.847004                      True  ...   \n",
       "3353    FBIS4-47199           3     8.057719                      True  ...   \n",
       "3354  LA102189-0077           9     8.806437                     False  ...   \n",
       "3355  LA102189-0077          10     8.618130                      True  ...   \n",
       "3356    FBIS4-47199           6     8.009920                     False  ...   \n",
       "\n",
       "      id1_relevance  qid id1_score            id2  scorediff  qrel_preference  \\\n",
       "1                 1  425         0  LA102189-0077   0.372280          correct   \n",
       "21                1  425         0    FBIS4-47199   0.021278          correct   \n",
       "24                1  425         0    FBIS4-46741   0.020547          correct   \n",
       "30                1  425         0    FT943-14585   0.149940          correct   \n",
       "31                1  425         0    FBIS4-46047   0.086719          correct   \n",
       "...             ...  ...       ...            ...        ...              ...   \n",
       "3352              1  425         0    FBIS3-54773   0.362297          correct   \n",
       "3353              1  425         0    FBIS4-46741   0.066231          correct   \n",
       "3354              1  425         0  LA071389-0111   1.121349          correct   \n",
       "3355              1  425         0    FBIS3-10532   1.309656          correct   \n",
       "3356              1  425         0  LA071389-0111   0.114030          correct   \n",
       "\n",
       "     id2_score      axiom preference  abs_preference  \n",
       "1            0     ax_AND          0               0  \n",
       "21           0     ax_AND          0               0  \n",
       "24           0     ax_AND          0               0  \n",
       "30           0     ax_AND          0               0  \n",
       "31           0     ax_AND          0               0  \n",
       "...        ...        ...        ...             ...  \n",
       "3352         0  ax_TF_LNC          0               0  \n",
       "3353         0  ax_TF_LNC          0               0  \n",
       "3354         0  ax_TF_LNC          0               0  \n",
       "3355         0  ax_TF_LNC          0               0  \n",
       "3356         0  ax_TF_LNC          0               0  \n",
       "\n",
       "[630 rows x 23 columns]"
      ]
     },
     "execution_count": 145,
     "metadata": {},
     "output_type": "execute_result"
    }
   ],
   "source": [
    "ranks = long.lower_rank.unique()\n",
    "r = 1\n",
    "long.query(f'lower_rank == {r} or upper_rank == {r}')"
   ]
  },
  {
   "cell_type": "code",
   "execution_count": 430,
   "metadata": {},
   "outputs": [
    {
     "data": {
      "text/plain": [
       "('DRMM', 0)"
      ]
     },
     "metadata": {},
     "output_type": "display_data"
    },
    {
     "data": {
      "text/plain": [
       "('DRMM', 1)"
      ]
     },
     "metadata": {},
     "output_type": "display_data"
    },
    {
     "data": {
      "text/plain": [
       "('DRMM', 2)"
      ]
     },
     "metadata": {},
     "output_type": "display_data"
    },
    {
     "data": {
      "text/plain": [
       "('DRMM', 3)"
      ]
     },
     "metadata": {},
     "output_type": "display_data"
    },
    {
     "data": {
      "text/plain": [
       "('DRMM', 4)"
      ]
     },
     "metadata": {},
     "output_type": "display_data"
    },
    {
     "data": {
      "text/plain": [
       "('DRMM', 5)"
      ]
     },
     "metadata": {},
     "output_type": "display_data"
    },
    {
     "data": {
      "text/plain": [
       "('DRMM', 6)"
      ]
     },
     "metadata": {},
     "output_type": "display_data"
    },
    {
     "data": {
      "text/plain": [
       "('DRMM', 7)"
      ]
     },
     "metadata": {},
     "output_type": "display_data"
    },
    {
     "data": {
      "text/plain": [
       "('DRMM', 8)"
      ]
     },
     "metadata": {},
     "output_type": "display_data"
    },
    {
     "data": {
      "text/plain": [
       "('DRMM', 9)"
      ]
     },
     "metadata": {},
     "output_type": "display_data"
    },
    {
     "data": {
      "text/plain": [
       "('DRMM', 10)"
      ]
     },
     "metadata": {},
     "output_type": "display_data"
    },
    {
     "data": {
      "text/plain": [
       "('PACRR-DRMM', 0)"
      ]
     },
     "metadata": {},
     "output_type": "display_data"
    },
    {
     "data": {
      "text/plain": [
       "('PACRR-DRMM', 1)"
      ]
     },
     "metadata": {},
     "output_type": "display_data"
    },
    {
     "data": {
      "text/plain": [
       "('PACRR-DRMM', 2)"
      ]
     },
     "metadata": {},
     "output_type": "display_data"
    },
    {
     "data": {
      "text/plain": [
       "('PACRR-DRMM', 3)"
      ]
     },
     "metadata": {},
     "output_type": "display_data"
    },
    {
     "data": {
      "text/plain": [
       "('PACRR-DRMM', 4)"
      ]
     },
     "metadata": {},
     "output_type": "display_data"
    },
    {
     "data": {
      "text/plain": [
       "('PACRR-DRMM', 5)"
      ]
     },
     "metadata": {},
     "output_type": "display_data"
    },
    {
     "data": {
      "text/plain": [
       "('PACRR-DRMM', 6)"
      ]
     },
     "metadata": {},
     "output_type": "display_data"
    },
    {
     "data": {
      "text/plain": [
       "('PACRR-DRMM', 7)"
      ]
     },
     "metadata": {},
     "output_type": "display_data"
    },
    {
     "data": {
      "text/plain": [
       "('PACRR-DRMM', 8)"
      ]
     },
     "metadata": {},
     "output_type": "display_data"
    },
    {
     "data": {
      "text/plain": [
       "('PACRR-DRMM', 9)"
      ]
     },
     "metadata": {},
     "output_type": "display_data"
    },
    {
     "data": {
      "text/plain": [
       "('PACRR-DRMM', 10)"
      ]
     },
     "metadata": {},
     "output_type": "display_data"
    },
    {
     "data": {
      "text/plain": [
       "('MP-COS', 0)"
      ]
     },
     "metadata": {},
     "output_type": "display_data"
    },
    {
     "data": {
      "text/plain": [
       "('MP-COS', 1)"
      ]
     },
     "metadata": {},
     "output_type": "display_data"
    },
    {
     "data": {
      "text/plain": [
       "('MP-COS', 2)"
      ]
     },
     "metadata": {},
     "output_type": "display_data"
    },
    {
     "data": {
      "text/plain": [
       "('MP-COS', 3)"
      ]
     },
     "metadata": {},
     "output_type": "display_data"
    },
    {
     "data": {
      "text/plain": [
       "('MP-COS', 4)"
      ]
     },
     "metadata": {},
     "output_type": "display_data"
    },
    {
     "data": {
      "text/plain": [
       "('MP-COS', 5)"
      ]
     },
     "metadata": {},
     "output_type": "display_data"
    },
    {
     "data": {
      "text/plain": [
       "('MP-COS', 6)"
      ]
     },
     "metadata": {},
     "output_type": "display_data"
    },
    {
     "data": {
      "text/plain": [
       "('MP-COS', 7)"
      ]
     },
     "metadata": {},
     "output_type": "display_data"
    },
    {
     "data": {
      "text/plain": [
       "('MP-COS', 8)"
      ]
     },
     "metadata": {},
     "output_type": "display_data"
    },
    {
     "data": {
      "text/plain": [
       "('MP-COS', 9)"
      ]
     },
     "metadata": {},
     "output_type": "display_data"
    },
    {
     "data": {
      "text/plain": [
       "('MP-COS', 10)"
      ]
     },
     "metadata": {},
     "output_type": "display_data"
    },
    {
     "data": {
      "text/html": [
       "<div>\n",
       "<style scoped>\n",
       "    .dataframe tbody tr th:only-of-type {\n",
       "        vertical-align: middle;\n",
       "    }\n",
       "\n",
       "    .dataframe tbody tr th {\n",
       "        vertical-align: top;\n",
       "    }\n",
       "\n",
       "    .dataframe thead th {\n",
       "        text-align: right;\n",
       "    }\n",
       "</style>\n",
       "<table border=\"1\" class=\"dataframe\">\n",
       "  <thead>\n",
       "    <tr style=\"text-align: right;\">\n",
       "      <th></th>\n",
       "    </tr>\n",
       "  </thead>\n",
       "  <tbody>\n",
       "  </tbody>\n",
       "</table>\n",
       "</div>"
      ],
      "text/plain": [
       "Empty DataFrame\n",
       "Columns: []\n",
       "Index: []"
      ]
     },
     "execution_count": 430,
     "metadata": {},
     "output_type": "execute_result"
    }
   ],
   "source": [
    "def app(df):\n",
    "    display(df.name)\n",
    "tmp.groupby(['system', 'rank']).apply(app)"
   ]
  },
  {
   "cell_type": "code",
   "execution_count": 720,
   "metadata": {},
   "outputs": [],
   "source": [
    "\n",
    "def axiom_evidence_strength(concordant_pairs, top_axioms=50):\n",
    "    tmp = concordant_pairs\n",
    "    long = tmp.sort_values('lower_rank').melt(\n",
    "        value_vars=col_predictors, id_vars=set(tmp.columns).difference(col_predictors),\n",
    "        var_name='axiom', value_name='preference')\n",
    "    # long['abs_preference'] = long.preference.abs()\n",
    "    # (long.groupby(['system', 'lower_rank', 'axiom'])[['preference', 'abs_preference']].sum()\n",
    "    #  .reset_index().sort_values(['abs_preference', 'preference'], ascending=False)\n",
    "    #  .groupby(['system', 'lower_rank']).head(top_axioms).groupby(['system', 'lower_rank'])\n",
    "    #  .apply(lambda df: \" \".join([f'{ax[3:]}:{pref}' for _, ax, pref in df[['axiom', 'preference']].itertuples()])))\n",
    "    long = long[['system', 'lower_rank', 'upper_rank', 'axiom', 'preference']]\n",
    "    tmp1 = long.copy()\n",
    "    tmpcol = tmp1.lower_rank.copy()\n",
    "    tmp1['lower_rank'] = tmp1.upper_rank\n",
    "    tmp1['upper_rank'] = tmpcol\n",
    "    tmp1.preference *= -1\n",
    "    tmp = pd.concat([long, tmp1])\n",
    "    tmp['pro'] = ((tmp.upper_rank > tmp.lower_rank) & (tmp.preference > 0)) | ((tmp.lower_rank > tmp.upper_rank) & (tmp.preference < 0))\n",
    "    tmp['up'] = ((tmp.lower_rank > tmp.upper_rank) & (tmp.preference > 0))\n",
    "    tmp['down'] = ((tmp.upper_rank > tmp.lower_rank) & (tmp.preference < 0))\n",
    "    tmp['con'] = tmp.down | tmp.up\n",
    "    tmp['abs_preference'] = tmp.preference.abs()\n",
    "    # for each (lower_rank, upper_rank) pair, is there any pro/con from all axioms combined\n",
    "    support = tmp[['system', 'lower_rank', 'upper_rank', 'pro', 'con']].groupby(['system', 'lower_rank', 'upper_rank']).sum()\n",
    "    # for each lower_rank, wrt how many other ranks is this position supported/contested\n",
    "    support_any = support.reset_index().groupby(['system', 'lower_rank']).agg(lambda x: (x>0).sum()).astype(int)\n",
    "    # for each lower_rank, wrt to how many other ranks is there more pro than con across axioms\n",
    "    support_maj = support.copy()\n",
    "    support_maj['mpro'] = support_maj.pro > support_maj.con\n",
    "    support_maj['mcon'] = support_maj.con > support_maj.pro\n",
    "    support_maj = support_maj.reset_index().groupby(['system', 'lower_rank']).sum().astype(int)\n",
    "    def axiom_sums(df):\n",
    "        d = dict({'axiom': 'sum'})\n",
    "        df = df.groupby('axiom')[['pro', 'con', 'up', 'down']].sum()\n",
    "        def maprow(x):\n",
    "            y = x.copy()\n",
    "            y[:] = 0\n",
    "            if x.pro > x.con:\n",
    "                y.pro = 1\n",
    "            elif x.up > x.down:\n",
    "                y.up = 1\n",
    "            elif x.down > x.up:\n",
    "                y.down = 1\n",
    "            return y\n",
    "        d.update(df.apply(maprow, axis=1).sum().to_dict())\n",
    "        return d\n",
    "    tmp = tmp.groupby(\n",
    "        ['system', 'lower_rank', 'axiom']\n",
    "    )[['preference', 'abs_preference', 'pro', 'con', 'up', 'down']].sum().astype('int').reset_index().sort_values(\n",
    "        ['pro', 'up', 'down'], ascending=False).groupby(\n",
    "        ['system', 'lower_rank']).head(top_axioms).groupby(['system', 'lower_rank']).apply(\n",
    "        lambda df: (\n",
    "            [#{'axiom': 'any_pos', 'pro': support_any.loc[df.name]['pro'], 'con': support_any.loc[df.name]['con']},\n",
    "             #{'axiom': 'maj_pos', 'pro': support_maj.loc[df.name]['mpro'], 'con': support_maj.loc[df.name]['mcon']},\n",
    "             axiom_sums(df)\n",
    "            ] +\n",
    "            df[['axiom', 'pro', 'con', 'up', 'down']].query('pro>0 or con>0').to_dict(orient='records') )\n",
    "    )\n",
    "    tmp.index.names=['system', 'rank']\n",
    "    tmp.name='support'\n",
    "    return tmp\n",
    "\n",
    "\n",
    "def format_evidence(evl, upto=50):\n",
    "    out = []\n",
    "    for e in evl[:upto]:\n",
    "        ax = e[\"axiom\"]\n",
    "        if ax.startswith('ax_'):\n",
    "            ax = r'\\mathrm{' +  ax[3:].replace(\"_\", \"\\\\_\") + '}'\n",
    "        else:\n",
    "            continue\n",
    "        \n",
    "        annote = f'^{{ \\\\textcolor{{green!40!black}}{{ {e[\"pro\"]} }} }}_{{ \\\\textcolor{{red!75!black}} {{ {e[\"con\"]} }} }}'\n",
    "        out.append(f'${ax}{annote}$')\n",
    "    return r\"\\quad \".join(out)\n",
    "\n",
    "\n",
    "def format_evidence_sum(evl):\n",
    "    s = [e for e in evl if e['axiom'] == 'sum'][0]\n",
    "    sym = {'pro': r'\\Leftrightarrow', 'up': r'\\uparrow', 'down': r'\\downarrow'}\n",
    "    ph = r'\\phantom{1}'\n",
    "    return r'\\quad '.join(f'${sym[k]}{ph if s[k]<10 else \"\"}{s[k]}$' for k in ['pro', 'up', 'down'])\n",
    "\n",
    "\n",
    "# qid = 425\n",
    "# tmp = all_concordant_pairs.query(f'qid == {qid} and upper_rank < 10 and lower_rank < 10')\n",
    "# axiom_evidence_strength(tmp)"
   ]
  },
  {
   "cell_type": "code",
   "execution_count": 738,
   "metadata": {},
   "outputs": [
    {
     "data": {
      "text/html": [
       "<div>\n",
       "<style scoped>\n",
       "    .dataframe tbody tr th:only-of-type {\n",
       "        vertical-align: middle;\n",
       "    }\n",
       "\n",
       "    .dataframe tbody tr th {\n",
       "        vertical-align: top;\n",
       "    }\n",
       "\n",
       "    .dataframe thead th {\n",
       "        text-align: right;\n",
       "    }\n",
       "</style>\n",
       "<table border=\"1\" class=\"dataframe\">\n",
       "  <thead>\n",
       "    <tr style=\"text-align: right;\">\n",
       "      <th></th>\n",
       "      <th>Rank</th>\n",
       "      <th>Score</th>\n",
       "      <th>Docid</th>\n",
       "      <th>Content</th>\n",
       "      <th>Axioms</th>\n",
       "      <th>SAxioms</th>\n",
       "    </tr>\n",
       "  </thead>\n",
       "  <tbody>\n",
       "    <tr>\n",
       "      <th>20</th>\n",
       "      <td>1</td>\n",
       "      <td>0.009488</td>\n",
       "      <td>FBIS4-11741$^{+}$</td>\n",
       "      <td>The american government said it is reviewing t...</td>\n",
       "      <td>[(LNC1, 5, 1), (DIV, 1, 8), (STMC2, 1, 1), (ST...</td>\n",
       "      <td>(1, 0, 5)</td>\n",
       "    </tr>\n",
       "    <tr>\n",
       "      <th>21</th>\n",
       "      <td>2</td>\n",
       "      <td>-0.026812</td>\n",
       "      <td>FBIS4-12458$^{+}$</td>\n",
       "      <td>As part of the israeli occupation authorities'...</td>\n",
       "      <td>[(LNC1, 5, 1), (DIV, 1, 8), (REG, 0, 3), (STMC...</td>\n",
       "      <td>(1, 0, 5)</td>\n",
       "    </tr>\n",
       "    <tr>\n",
       "      <th>22</th>\n",
       "      <td>3</td>\n",
       "      <td>-0.032025</td>\n",
       "      <td>FT942-4841$^{-}$</td>\n",
       "      <td>World trade news: dollars 200m vat loss from p...</td>\n",
       "      <td>[(REG, 5, 3), (TFC1, 3, 0), (DIV, 2, 7), (LNC1...</td>\n",
       "      <td>(3, 0, 4)</td>\n",
       "    </tr>\n",
       "    <tr>\n",
       "      <th>23</th>\n",
       "      <td>4</td>\n",
       "      <td>-0.036862</td>\n",
       "      <td>FBIS4-60230$^{-}$</td>\n",
       "      <td>Beirut--a lebanese military source announced t...</td>\n",
       "      <td>[(LNC1, 5, 1), (DIV, 2, 7), (STMC2, 1, 1), (ST...</td>\n",
       "      <td>(1, 3, 2)</td>\n",
       "    </tr>\n",
       "    <tr>\n",
       "      <th>24</th>\n",
       "      <td>5</td>\n",
       "      <td>-0.112558</td>\n",
       "      <td>FT932-2521$^{-}$</td>\n",
       "      <td>Technology (worth watching): breaking the copy...</td>\n",
       "      <td>[(LNC1, 3, 3), (DIV, 1, 8), (STMC2, 1, 3), (ST...</td>\n",
       "      <td>(1, 0, 5)</td>\n",
       "    </tr>\n",
       "    <tr>\n",
       "      <th>25</th>\n",
       "      <td>6</td>\n",
       "      <td>-0.207338</td>\n",
       "      <td>FT931-6602$^{+}$</td>\n",
       "      <td>No progress on malacca pirates -- Maritime exp...</td>\n",
       "      <td>[(DIV, 5, 4), (LNC1, 2, 4), (STMC2, 1, 1), (ST...</td>\n",
       "      <td>(1, 4, 1)</td>\n",
       "    </tr>\n",
       "    <tr>\n",
       "      <th>26</th>\n",
       "      <td>7</td>\n",
       "      <td>-0.331840</td>\n",
       "      <td>FT934-12634$^{-}$</td>\n",
       "      <td>Management (the growing business): avoiding th...</td>\n",
       "      <td>[(DIV, 2, 7), (REG, 2, 6), (LNC1, 1, 0), (STMC...</td>\n",
       "      <td>(1, 2, 3)</td>\n",
       "    </tr>\n",
       "    <tr>\n",
       "      <th>27</th>\n",
       "      <td>8</td>\n",
       "      <td>-0.341313</td>\n",
       "      <td>FBIS4-56772$^{-}$</td>\n",
       "      <td>Havana, 9 may (pl) -- today, the cuban civil a...</td>\n",
       "      <td>[(LNC1, 4, 1), (STMC2, 2, 2), (STMC2_f, 2, 2),...</td>\n",
       "      <td>(3, 4, 0)</td>\n",
       "    </tr>\n",
       "    <tr>\n",
       "      <th>28</th>\n",
       "      <td>9</td>\n",
       "      <td>-0.341313</td>\n",
       "      <td>FBIS4-68094$^{-}$</td>\n",
       "      <td>Havana, 9 may (pl) -- the cuban civil aeronaut...</td>\n",
       "      <td>[(LNC1, 4, 1), (STMC2, 2, 1), (STMC2_f, 2, 1),...</td>\n",
       "      <td>(6, 1, 0)</td>\n",
       "    </tr>\n",
       "    <tr>\n",
       "      <th>29</th>\n",
       "      <td>10</td>\n",
       "      <td>-0.424465</td>\n",
       "      <td>FT922-9038$^{-}$</td>\n",
       "      <td>Arts: violence on the high seas - nicholas woo...</td>\n",
       "      <td>[(DIV, 0, 9), (REG, 0, 9)]</td>\n",
       "      <td>(0, 2, 0)</td>\n",
       "    </tr>\n",
       "  </tbody>\n",
       "</table>\n",
       "</div>"
      ],
      "text/plain": [
       "    Rank     Score              Docid  \\\n",
       "20     1  0.009488  FBIS4-11741$^{+}$   \n",
       "21     2 -0.026812  FBIS4-12458$^{+}$   \n",
       "22     3 -0.032025   FT942-4841$^{-}$   \n",
       "23     4 -0.036862  FBIS4-60230$^{-}$   \n",
       "24     5 -0.112558   FT932-2521$^{-}$   \n",
       "25     6 -0.207338   FT931-6602$^{+}$   \n",
       "26     7 -0.331840  FT934-12634$^{-}$   \n",
       "27     8 -0.341313  FBIS4-56772$^{-}$   \n",
       "28     9 -0.341313  FBIS4-68094$^{-}$   \n",
       "29    10 -0.424465   FT922-9038$^{-}$   \n",
       "\n",
       "                                              Content  \\\n",
       "20  The american government said it is reviewing t...   \n",
       "21  As part of the israeli occupation authorities'...   \n",
       "22  World trade news: dollars 200m vat loss from p...   \n",
       "23  Beirut--a lebanese military source announced t...   \n",
       "24  Technology (worth watching): breaking the copy...   \n",
       "25  No progress on malacca pirates -- Maritime exp...   \n",
       "26  Management (the growing business): avoiding th...   \n",
       "27  Havana, 9 may (pl) -- today, the cuban civil a...   \n",
       "28  Havana, 9 may (pl) -- the cuban civil aeronaut...   \n",
       "29  Arts: violence on the high seas - nicholas woo...   \n",
       "\n",
       "                                               Axioms    SAxioms  \n",
       "20  [(LNC1, 5, 1), (DIV, 1, 8), (STMC2, 1, 1), (ST...  (1, 0, 5)  \n",
       "21  [(LNC1, 5, 1), (DIV, 1, 8), (REG, 0, 3), (STMC...  (1, 0, 5)  \n",
       "22  [(REG, 5, 3), (TFC1, 3, 0), (DIV, 2, 7), (LNC1...  (3, 0, 4)  \n",
       "23  [(LNC1, 5, 1), (DIV, 2, 7), (STMC2, 1, 1), (ST...  (1, 3, 2)  \n",
       "24  [(LNC1, 3, 3), (DIV, 1, 8), (STMC2, 1, 3), (ST...  (1, 0, 5)  \n",
       "25  [(DIV, 5, 4), (LNC1, 2, 4), (STMC2, 1, 1), (ST...  (1, 4, 1)  \n",
       "26  [(DIV, 2, 7), (REG, 2, 6), (LNC1, 1, 0), (STMC...  (1, 2, 3)  \n",
       "27  [(LNC1, 4, 1), (STMC2, 2, 2), (STMC2_f, 2, 2),...  (3, 4, 0)  \n",
       "28  [(LNC1, 4, 1), (STMC2, 2, 1), (STMC2_f, 2, 1),...  (6, 1, 0)  \n",
       "29                         [(DIV, 0, 9), (REG, 0, 9)]  (0, 2, 0)  "
      ]
     },
     "metadata": {},
     "output_type": "display_data"
    },
    {
     "ename": "RuntimeError",
     "evalue": "500: Internal Server Error; b'<!DOCTYPE HTML PUBLIC \"-//IETF//DTD HTML 2.0//EN\">\\n<html><head>\\n<title>500 Internal Server Error</title>\\n</head><body>\\n<h1>Internal Server Error</h1>\\n<p>The server encountered an internal error or\\nmisconfiguration and was unable to complete\\nyour request.</p>\\n<p>Please contact the server administrator at \\n webmaster@localhost to inform them of the time this error occurred,\\n and the actions you performed just before this error.</p>\\n<p>More information about this error may be available\\nin the server error log.</p>\\n<hr>\\n<address>Apache/2.4.29 (Ubuntu) Server at quicklatex.com Port 80</address>\\n</body></html>\\n'",
     "output_type": "error",
     "traceback": [
      "\u001b[0;31m---------------------------------------------------------------------------\u001b[0m",
      "\u001b[0;31mRuntimeError\u001b[0m                              Traceback (most recent call last)",
      "\u001b[0;32m~/workspace/web-search-axiomatic-reranking/axiomatic-explainability/experiments/predict/experiments_common.py\u001b[0m in \u001b[0;36m<module>\u001b[0;34m\u001b[0m\n\u001b[1;32m     86\u001b[0m \u001b[0mdf\u001b[0m\u001b[0;34m,\u001b[0m \u001b[0mtab\u001b[0m \u001b[0;34m=\u001b[0m \u001b[0mlatex_table_topten\u001b[0m\u001b[0;34m(\u001b[0m\u001b[0mqid\u001b[0m\u001b[0;34m,\u001b[0m \u001b[0msystem\u001b[0m\u001b[0;34m,\u001b[0m \u001b[0mmode\u001b[0m\u001b[0;34m=\u001b[0m\u001b[0mmode\u001b[0m\u001b[0;34m)\u001b[0m\u001b[0;34m\u001b[0m\u001b[0;34m\u001b[0m\u001b[0m\n\u001b[1;32m     87\u001b[0m \u001b[0mdisplay\u001b[0m\u001b[0;34m(\u001b[0m\u001b[0mdf\u001b[0m\u001b[0;34m)\u001b[0m\u001b[0;34m\u001b[0m\u001b[0;34m\u001b[0m\u001b[0m\n\u001b[0;32m---> 88\u001b[0;31m \u001b[0mquicklatex\u001b[0m\u001b[0;34m.\u001b[0m\u001b[0mdisplay\u001b[0m\u001b[0;34m(\u001b[0m\u001b[0mtab\u001b[0m\u001b[0;34m)\u001b[0m\u001b[0;34m\u001b[0m\u001b[0;34m\u001b[0m\u001b[0m\n\u001b[0m\u001b[1;32m     89\u001b[0m \u001b[0;32mwith\u001b[0m \u001b[0mopen\u001b[0m\u001b[0;34m(\u001b[0m\u001b[0;34mf'tables/ranking-example-{qid}-{system.lower().replace(\"-\", \"_\")}-{mode}.tex'\u001b[0m\u001b[0;34m,\u001b[0m \u001b[0;34m'w'\u001b[0m\u001b[0;34m)\u001b[0m \u001b[0;32mas\u001b[0m \u001b[0mf\u001b[0m\u001b[0;34m:\u001b[0m\u001b[0;34m\u001b[0m\u001b[0;34m\u001b[0m\u001b[0m\n\u001b[1;32m     90\u001b[0m     \u001b[0mf\u001b[0m\u001b[0;34m.\u001b[0m\u001b[0mwrite\u001b[0m\u001b[0;34m(\u001b[0m\u001b[0mtab\u001b[0m\u001b[0;34m)\u001b[0m\u001b[0;34m\u001b[0m\u001b[0;34m\u001b[0m\u001b[0m\n",
      "\u001b[0;32m~/workspace/web-search-axiomatic-reranking/axiomatic-explainability/experiments/predict/quicklatex.py\u001b[0m in \u001b[0;36mdisplay\u001b[0;34m(latex_snippet)\u001b[0m\n\u001b[1;32m     51\u001b[0m     \"\"\"\n\u001b[1;32m     52\u001b[0m     \u001b[0;32mfrom\u001b[0m \u001b[0mIPython\u001b[0m\u001b[0;34m.\u001b[0m\u001b[0mdisplay\u001b[0m \u001b[0;32mimport\u001b[0m \u001b[0mImage\u001b[0m\u001b[0;34m\u001b[0m\u001b[0;34m\u001b[0m\u001b[0m\n\u001b[0;32m---> 53\u001b[0;31m     \u001b[0;32mreturn\u001b[0m \u001b[0mImage\u001b[0m\u001b[0;34m(\u001b[0m\u001b[0murl\u001b[0m\u001b[0;34m=\u001b[0m\u001b[0mrender\u001b[0m\u001b[0;34m(\u001b[0m\u001b[0mlatex_snippet\u001b[0m\u001b[0;34m)\u001b[0m\u001b[0;34m)\u001b[0m\u001b[0;34m\u001b[0m\u001b[0;34m\u001b[0m\u001b[0m\n\u001b[0m",
      "\u001b[0;32m~/workspace/web-search-axiomatic-reranking/axiomatic-explainability/experiments/predict/quicklatex.py\u001b[0m in \u001b[0;36mrender\u001b[0;34m(latex_snippet)\u001b[0m\n\u001b[1;32m     38\u001b[0m     \u001b[0mresponse\u001b[0m \u001b[0;34m=\u001b[0m \u001b[0mconn\u001b[0m\u001b[0;34m.\u001b[0m\u001b[0mgetresponse\u001b[0m\u001b[0;34m(\u001b[0m\u001b[0;34m)\u001b[0m\u001b[0;34m\u001b[0m\u001b[0;34m\u001b[0m\u001b[0m\n\u001b[1;32m     39\u001b[0m     \u001b[0;32mif\u001b[0m \u001b[0mresponse\u001b[0m\u001b[0;34m.\u001b[0m\u001b[0mstatus\u001b[0m \u001b[0;34m!=\u001b[0m \u001b[0;36m200\u001b[0m\u001b[0;34m:\u001b[0m\u001b[0;34m\u001b[0m\u001b[0;34m\u001b[0m\u001b[0m\n\u001b[0;32m---> 40\u001b[0;31m         \u001b[0;32mraise\u001b[0m \u001b[0mRuntimeError\u001b[0m\u001b[0;34m(\u001b[0m\u001b[0;34mf'{response.status}: {response.reason}; {response.read()}'\u001b[0m\u001b[0;34m)\u001b[0m\u001b[0;34m\u001b[0m\u001b[0;34m\u001b[0m\u001b[0m\n\u001b[0m\u001b[1;32m     41\u001b[0m     \u001b[0mdata\u001b[0m \u001b[0;34m=\u001b[0m \u001b[0mresponse\u001b[0m\u001b[0;34m.\u001b[0m\u001b[0mread\u001b[0m\u001b[0;34m(\u001b[0m\u001b[0;34m)\u001b[0m\u001b[0;34m\u001b[0m\u001b[0;34m\u001b[0m\u001b[0m\n\u001b[1;32m     42\u001b[0m     \u001b[0mconn\u001b[0m\u001b[0;34m.\u001b[0m\u001b[0mclose\u001b[0m\u001b[0;34m(\u001b[0m\u001b[0;34m)\u001b[0m\u001b[0;34m\u001b[0m\u001b[0;34m\u001b[0m\u001b[0m\n",
      "\u001b[0;31mRuntimeError\u001b[0m: 500: Internal Server Error; b'<!DOCTYPE HTML PUBLIC \"-//IETF//DTD HTML 2.0//EN\">\\n<html><head>\\n<title>500 Internal Server Error</title>\\n</head><body>\\n<h1>Internal Server Error</h1>\\n<p>The server encountered an internal error or\\nmisconfiguration and was unable to complete\\nyour request.</p>\\n<p>Please contact the server administrator at \\n webmaster@localhost to inform them of the time this error occurred,\\n and the actions you performed just before this error.</p>\\n<p>More information about this error may be available\\nin the server error log.</p>\\n<hr>\\n<address>Apache/2.4.29 (Ubuntu) Server at quicklatex.com Port 80</address>\\n</body></html>\\n'"
     ]
    }
   ],
   "source": [
    "import quicklatex\n",
    "import json\n",
    "import re\n",
    "\n",
    "def excerpt_text(txt):\n",
    "    txt = re.sub(r\"^Language:\\s*[^\\s]+\\s*$\", \"\", txt, flags=re.M)\n",
    "    txt = re.sub(r\"^Article Type:\\s*[^\\s]+\\s*$\", \"\", txt, flags=re.M)\n",
    "    \n",
    "    \n",
    "    txt = re.sub(r\"\\s+\", \" \", txt)\n",
    "    txt = re.sub(r\"\\[[^\\]]*\\]\", \"\", txt)\n",
    "    txt = re.sub(r\"^\\s*[A-Z]+:\\s+\", \"\", txt)\n",
    "    txt = re.sub(r\"^\\w+ \\(\\w+\\)\\s*\\W*\\s*\", \"\", txt)\n",
    "    txt = re.sub(r\"^([A-Z]{2,3}\\s+|[0-9]{2,3}\\s+)+\\s*/\\s*\", \"\", txt)\n",
    "    txt = re.sub(r\"^.*DPA\\W*\", \"\", txt)\n",
    "    txt = re.sub(r\"^\\s*(CSO|BFN)\\s*\", \"\", txt)\n",
    "    txt = re.sub(r\"^.{1,50}news agency\", \"\", txt, flags=re.I)\n",
    "    \n",
    "    \n",
    "    txt = re.sub(r\"^[^0-9a-zA-Z]+\", \"\", txt)\n",
    "    return txt.capitalize().strip()\n",
    "\n",
    "def fetch_something(docid):\n",
    "    doc = fetch_doc(docid)\n",
    "    title = excerpt_text(doc[0])\n",
    "    text = excerpt_text(doc[1])\n",
    "    if (not doc[0].startswith(\"NO_\")) and len(title)>5:\n",
    "        text = title + ' -- ' + text\n",
    "    return text\n",
    "\n",
    "def latex_table_topten(qid=425, system='MP-COS', mode='summary'):\n",
    "    tmp = all_rankings.query(f'(qid == {qid}) and (rank < 10) and system != \"BM25\"').copy()\n",
    "    evidence = axiom_evidence_strength(all_concordant_pairs.query(f'(qid == {qid}) and (lower_rank < 10) and (upper_rank < 10)'))\n",
    "\n",
    "    tmp['Content'] = tmp.docid.map(lambda x: fetch_something(x))\n",
    "    tmp = tmp.join(evidence)\n",
    "\n",
    "\n",
    "    tmp1 = tmp.reset_index().rename(\n",
    "        columns=lambda x: x.replace('_', ' ').capitalize()\n",
    "    )\n",
    "    tmp1['Relevance'] = tmp1.Relevance.fillna(-1000)\n",
    "    tmp1['Docid'] = tmp1[['Docid', 'Relevance']].apply(\n",
    "        lambda x: x[0] + (\n",
    "            '' if x[1] == -1000\n",
    "            else ('$^{' + ('+'*x[1] if x[1] else '-') + '}$')\n",
    "        )\n",
    "        , axis=1)\n",
    "    #.drop(columns=['System', 'Docid', 'Relevance', 'Qid'])\n",
    "    tmp1 = tmp1.query(f'System == \"{system}\"').head(10)[['Rank', 'Score', 'Docid', 'Content', 'Support']].rename(columns={'Support': 'Axioms'})\n",
    "    tmp1.Rank += 1\n",
    "    \n",
    "    with pd.option_context('max_colwidth', -1):\n",
    "        latex = tmp1.to_latex(\n",
    "            index=False,\n",
    "            escape=False,\n",
    "            column_format='lrlll',\n",
    "            formatters={\n",
    "                'Axioms': format_evidence_sum if mode=='summary' else format_evidence,\n",
    "                'Content': lambda x: x[:80].replace('_', ' ').replace('$', r'\\$').replace('&', r'\\&')+'\\\\dots',\n",
    "                'Score': lambda x: '%.2f' % x\n",
    "            }\n",
    "        )\n",
    "    \n",
    "    insert = f\"\"\"\\\\small\\\\toprule\n",
    "    \\\\multicolumn{{5}}{{@{{}}l@{{}}}}{{\n",
    "    {{\\\\bfseries System:}}~{system}\n",
    "    \\qquad\n",
    "    {{\\\\bfseries Query:}}~{qid}\n",
    "    \\quad\n",
    "    ``{topics.get(qid)}''\n",
    "    }}\\\\\\\\[.5ex]\n",
    "    \"\"\"\n",
    "    \n",
    "    latex = latex.replace(r\"\\toprule\", insert)\n",
    "    latex = re.sub(r'{tabular}{([^}]*)}', r'{tabular}{@{}\\1@{}}', latex)\n",
    "    \n",
    "    tmp1['SAxioms']=tmp1.Axioms.map(lambda x: [(y['pro'], y['up'], y['down']) for y in x if y['axiom']=='sum'][0])\n",
    "    tmp1['Axioms'] =tmp1.Axioms.map(lambda x: [(y['axiom'][3:], y['pro'], y['con']) for y in x if y['axiom'].startswith('ax_')])\n",
    "    return tmp1, latex\n",
    "    \n",
    "qid=367\n",
    "system='MP-COS'\n",
    "mode='summary'\n",
    "#mode='all'\n",
    "df, tab = latex_table_topten(qid, system, mode=mode)\n",
    "display(df)\n",
    "#quicklatex.display(tab)\n",
    "with open(f'tables/ranking-example-{qid}-{system.lower().replace(\"-\", \"_\")}-{mode}.tex', 'w') as f:\n",
    "    f.write(tab)"
   ]
  },
  {
   "cell_type": "code",
   "execution_count": 739,
   "metadata": {},
   "outputs": [
    {
     "data": {
      "application/vnd.jupyter.widget-view+json": {
       "model_id": "6b265a94faa44fe69d2f2dcd149ad2b2",
       "version_major": 2,
       "version_minor": 0
      },
      "text/plain": [
       "HBox(children=(FloatProgress(value=0.0, max=24.0), HTML(value='')))"
      ]
     },
     "metadata": {},
     "output_type": "display_data"
    },
    {
     "name": "stdout",
     "output_type": "stream",
     "text": [
      "\n"
     ]
    }
   ],
   "source": [
    "def write_table(qid, system, mode):\n",
    "    df, tab = latex_table_topten(qid, system, mode=mode)\n",
    "    with open(f'tables/ranking-example-{qid}-{system.lower().replace(\"-\", \"_\")}-{mode}.tex', 'w') as f:\n",
    "        f.write(tab)\n",
    "from tqdm.notebook import tqdm\n",
    "from itertools import product\n",
    "tqdm\n",
    "tables = tqdm(list(product(\n",
    "     [425, 367, 336, 618],\n",
    "     ['DRMM', 'PACRR-DRMM', 'MP-COS'],\n",
    "     ['summary', 'all']\n",
    ")))\n",
    "\n",
    "for q,s,m in tables:\n",
    "    tables.set_postfix(dict(query=q, system=s, mode=m))\n",
    "    write_table(q, s, m)"
   ]
  },
  {
   "cell_type": "code",
   "execution_count": null,
   "metadata": {},
   "outputs": [],
   "source": []
  }
 ],
 "metadata": {
  "kernelspec": {
   "display_name": "Python 3",
   "language": "python",
   "name": "python3"
  },
  "language_info": {
   "codemirror_mode": {
    "name": "ipython",
    "version": 3
   },
   "file_extension": ".py",
   "mimetype": "text/x-python",
   "name": "python",
   "nbconvert_exporter": "python",
   "pygments_lexer": "ipython3",
   "version": "3.7.6"
  },
  "toc": {
   "base_numbering": 1,
   "nav_menu": {},
   "number_sections": false,
   "sideBar": true,
   "skip_h1_title": false,
   "title_cell": "Table of Contents",
   "title_sidebar": "Contents",
   "toc_cell": true,
   "toc_position": {},
   "toc_section_display": true,
   "toc_window_display": false
  },
  "varInspector": {
   "cols": {
    "lenName": 16,
    "lenType": 16,
    "lenVar": 40
   },
   "kernels_config": {
    "python": {
     "delete_cmd_postfix": "",
     "delete_cmd_prefix": "del ",
     "library": "var_list.py",
     "varRefreshCmd": "print(var_dic_list())"
    },
    "r": {
     "delete_cmd_postfix": ") ",
     "delete_cmd_prefix": "rm(",
     "library": "var_list.r",
     "varRefreshCmd": "cat(var_dic_list()) "
    }
   },
   "types_to_exclude": [
    "module",
    "function",
    "builtin_function_or_method",
    "instance",
    "_Feature"
   ],
   "window_display": false
  },
  "widgets": {
   "application/vnd.jupyter.widget-state+json": {
    "state": {
     "08d7d9bfac8b48269ddc84605721b086": {
      "model_module": "@jupyter-widgets/controls",
      "model_module_version": "1.5.0",
      "model_name": "DescriptionStyleModel",
      "state": {
       "description_width": ""
      }
     },
     "0a0f9a823a31475a8b9819c49f7a313b": {
      "model_module": "@jupyter-widgets/controls",
      "model_module_version": "1.5.0",
      "model_name": "DescriptionStyleModel",
      "state": {
       "description_width": ""
      }
     },
     "0a4d72d54a224ca0bdb3356b3b495b81": {
      "model_module": "@jupyter-widgets/base",
      "model_module_version": "1.2.0",
      "model_name": "LayoutModel",
      "state": {}
     },
     "0be82cc3f13047c88ecaa2144515079e": {
      "model_module": "@jupyter-widgets/controls",
      "model_module_version": "1.5.0",
      "model_name": "FloatProgressModel",
      "state": {
       "bar_style": "success",
       "description": "100%",
       "layout": "IPY_MODEL_f539ab97112a469e9605e95001de8362",
       "max": 24,
       "style": "IPY_MODEL_f503613064724833a087b747bbd6e985",
       "value": 24
      }
     },
     "0c4f032e55434e9e86f0e9403ac5fce3": {
      "model_module": "@jupyter-widgets/base",
      "model_module_version": "1.2.0",
      "model_name": "LayoutModel",
      "state": {}
     },
     "0eb29f1eb675486c9868bb7daf045c63": {
      "model_module": "@jupyter-widgets/controls",
      "model_module_version": "1.5.0",
      "model_name": "FloatProgressModel",
      "state": {
       "bar_style": "danger",
       "description": "  0%",
       "layout": "IPY_MODEL_c6f95fd095964e3aafe437f76abd73ff",
       "max": 24,
       "style": "IPY_MODEL_9ba03d02b19c48b6b1cbb01fb31f5252"
      }
     },
     "14a3cb77130a4eb081cf1a37ba6e9834": {
      "model_module": "@jupyter-widgets/base",
      "model_module_version": "1.2.0",
      "model_name": "LayoutModel",
      "state": {}
     },
     "17342566d4b54fae88ef27b0570bec76": {
      "model_module": "@jupyter-widgets/controls",
      "model_module_version": "1.5.0",
      "model_name": "HTMLModel",
      "state": {
       "layout": "IPY_MODEL_a66fe806060048b9a01f2fa6743d64c3",
       "style": "IPY_MODEL_08d7d9bfac8b48269ddc84605721b086",
       "value": " 0/? [00:00&lt;?, ?it/s]"
      }
     },
     "1a7ce1dba2c04fca884bb51a4b3fb3d7": {
      "model_module": "@jupyter-widgets/controls",
      "model_module_version": "1.5.0",
      "model_name": "HBoxModel",
      "state": {
       "children": [
        "IPY_MODEL_e82efc761c48414d90c050f0d4239057",
        "IPY_MODEL_17342566d4b54fae88ef27b0570bec76"
       ],
       "layout": "IPY_MODEL_ea0ac241afb0407a80f7991fb11cfa8d"
      }
     },
     "1ac08784a21b4439b1b33e80b7ada36e": {
      "model_module": "@jupyter-widgets/base",
      "model_module_version": "1.2.0",
      "model_name": "LayoutModel",
      "state": {}
     },
     "1afd16aa9247451a8957825a864e3c05": {
      "model_module": "@jupyter-widgets/base",
      "model_module_version": "1.2.0",
      "model_name": "LayoutModel",
      "state": {}
     },
     "1e24ad357e8a4ab69700efef6adf99b6": {
      "model_module": "@jupyter-widgets/controls",
      "model_module_version": "1.5.0",
      "model_name": "HBoxModel",
      "state": {
       "children": [
        "IPY_MODEL_f1771406ebf643a3add783f13353e36c",
        "IPY_MODEL_42cf9b42a6a14ae0971d63a5fbd37b74"
       ],
       "layout": "IPY_MODEL_867c63bfa4b04debbef03ace9b49e242"
      }
     },
     "201a40bcb2bf4a90aa354329395110df": {
      "model_module": "@jupyter-widgets/base",
      "model_module_version": "1.2.0",
      "model_name": "LayoutModel",
      "state": {}
     },
     "224434513c20466b8457eceb88e01bd5": {
      "model_module": "@jupyter-widgets/controls",
      "model_module_version": "1.5.0",
      "model_name": "HBoxModel",
      "state": {
       "children": [
        "IPY_MODEL_843a21a9da7f4d429e4b6615753d6945",
        "IPY_MODEL_f31e45c3043740dbaedf863cc8c7637d"
       ],
       "layout": "IPY_MODEL_ee4889438eb248f28454526df803f73c"
      }
     },
     "272d9537a6f94cd8b4eaab228801187c": {
      "model_module": "@jupyter-widgets/base",
      "model_module_version": "1.2.0",
      "model_name": "LayoutModel",
      "state": {}
     },
     "3055b28d592a4eaeaf2e146b22de81d2": {
      "model_module": "@jupyter-widgets/controls",
      "model_module_version": "1.5.0",
      "model_name": "ProgressStyleModel",
      "state": {
       "description_width": "initial"
      }
     },
     "34b79c19e2d548f69b5acfc44b617645": {
      "model_module": "@jupyter-widgets/base",
      "model_module_version": "1.2.0",
      "model_name": "LayoutModel",
      "state": {}
     },
     "37b5c3354187486e8e0d72f75e788c55": {
      "model_module": "@jupyter-widgets/controls",
      "model_module_version": "1.5.0",
      "model_name": "HTMLModel",
      "state": {
       "layout": "IPY_MODEL_0c4f032e55434e9e86f0e9403ac5fce3",
       "style": "IPY_MODEL_e9118ca1a2d44472847a906461407aa6",
       "value": " 24/24 [00:24&lt;00:00,  1.04s/it]"
      }
     },
     "37d18791502043e092a8d6d6f04c124a": {
      "model_module": "@jupyter-widgets/controls",
      "model_module_version": "1.5.0",
      "model_name": "FloatProgressModel",
      "state": {
       "bar_style": "success",
       "layout": "IPY_MODEL_34b79c19e2d548f69b5acfc44b617645",
       "max": 1,
       "style": "IPY_MODEL_61ed40add57e4f928440373aa9dcdfc5",
       "value": 1
      }
     },
     "3eb512c989e34a2e8e03b2dce214e4cb": {
      "model_module": "@jupyter-widgets/base",
      "model_module_version": "1.2.0",
      "model_name": "LayoutModel",
      "state": {}
     },
     "42cf9b42a6a14ae0971d63a5fbd37b74": {
      "model_module": "@jupyter-widgets/controls",
      "model_module_version": "1.5.0",
      "model_name": "HTMLModel",
      "state": {
       "layout": "IPY_MODEL_44e6027db7ae499cac556017394f5303",
       "style": "IPY_MODEL_85de8eb8e2e64c69b588c8108730626b",
       "value": " 24/? [00:39&lt;00:00,  1.63s/it]"
      }
     },
     "43d14011d8e04a7cb8c457d716a393ea": {
      "model_module": "@jupyter-widgets/controls",
      "model_module_version": "1.5.0",
      "model_name": "DescriptionStyleModel",
      "state": {
       "description_width": ""
      }
     },
     "44e6027db7ae499cac556017394f5303": {
      "model_module": "@jupyter-widgets/base",
      "model_module_version": "1.2.0",
      "model_name": "LayoutModel",
      "state": {}
     },
     "55b3f040fc374f8e870a4946dedbc4d7": {
      "model_module": "@jupyter-widgets/controls",
      "model_module_version": "1.5.0",
      "model_name": "ProgressStyleModel",
      "state": {
       "description_width": "initial"
      }
     },
     "57c08ede4c65456a9119c6799945afa7": {
      "model_module": "@jupyter-widgets/base",
      "model_module_version": "1.2.0",
      "model_name": "LayoutModel",
      "state": {}
     },
     "5890fdf9514345d8b60f02376035f765": {
      "model_module": "@jupyter-widgets/base",
      "model_module_version": "1.2.0",
      "model_name": "LayoutModel",
      "state": {}
     },
     "59e27594186b458c99b0e67f5e8c31aa": {
      "model_module": "@jupyter-widgets/controls",
      "model_module_version": "1.5.0",
      "model_name": "HTMLModel",
      "state": {
       "layout": "IPY_MODEL_272d9537a6f94cd8b4eaab228801187c",
       "style": "IPY_MODEL_0a0f9a823a31475a8b9819c49f7a313b",
       "value": " 24/24 [00:13&lt;00:00,  1.77it/s]"
      }
     },
     "5cfc90cc6ba748daa2ab69a116cebf10": {
      "model_module": "@jupyter-widgets/controls",
      "model_module_version": "1.5.0",
      "model_name": "ProgressStyleModel",
      "state": {
       "description_width": "initial"
      }
     },
     "61ed40add57e4f928440373aa9dcdfc5": {
      "model_module": "@jupyter-widgets/controls",
      "model_module_version": "1.5.0",
      "model_name": "ProgressStyleModel",
      "state": {
       "description_width": "initial"
      }
     },
     "63ec89de63454c88a92fb86007584b27": {
      "model_module": "@jupyter-widgets/controls",
      "model_module_version": "1.5.0",
      "model_name": "HBoxModel",
      "state": {
       "children": [
        "IPY_MODEL_37d18791502043e092a8d6d6f04c124a",
        "IPY_MODEL_719960f244854f3e830dd7c56cdddc7b"
       ],
       "layout": "IPY_MODEL_0a4d72d54a224ca0bdb3356b3b495b81"
      }
     },
     "69ef7ca4e3fd43f3bbf655949c3fe767": {
      "model_module": "@jupyter-widgets/controls",
      "model_module_version": "1.5.0",
      "model_name": "FloatProgressModel",
      "state": {
       "bar_style": "success",
       "description": "100%",
       "layout": "IPY_MODEL_dce5d6ce03ad44c793940701769e72f1",
       "max": 24,
       "style": "IPY_MODEL_8e1e2aff868b4c34a5b16583a5bbb0ba",
       "value": 24
      }
     },
     "6b265a94faa44fe69d2f2dcd149ad2b2": {
      "model_module": "@jupyter-widgets/controls",
      "model_module_version": "1.5.0",
      "model_name": "HBoxModel",
      "state": {
       "children": [
        "IPY_MODEL_0be82cc3f13047c88ecaa2144515079e",
        "IPY_MODEL_c045997dfeab43f39aae96f703abe4a6"
       ],
       "layout": "IPY_MODEL_871c72f26cfc4b3db9308b56b70913ab"
      }
     },
     "719960f244854f3e830dd7c56cdddc7b": {
      "model_module": "@jupyter-widgets/controls",
      "model_module_version": "1.5.0",
      "model_name": "HTMLModel",
      "state": {
       "layout": "IPY_MODEL_5890fdf9514345d8b60f02376035f765",
       "style": "IPY_MODEL_e553bf8af33d4d67935382f6b5200bbf",
       "value": " 24/? [00:58&lt;00:00,  2.44s/it]"
      }
     },
     "7569675788ee407b9660c364ce183242": {
      "model_module": "@jupyter-widgets/controls",
      "model_module_version": "1.5.0",
      "model_name": "HTMLModel",
      "state": {
       "layout": "IPY_MODEL_1afd16aa9247451a8957825a864e3c05",
       "style": "IPY_MODEL_a3c0a31a86f94b039b839a9574e01d67",
       "value": " 24/24 [00:24&lt;00:00,  1.04s/it, query=618, system=MP-COS, mode=all]"
      }
     },
     "7b0b61d2255c4d9fb005f9d6b594bca3": {
      "model_module": "@jupyter-widgets/controls",
      "model_module_version": "1.5.0",
      "model_name": "ProgressStyleModel",
      "state": {
       "description_width": "initial"
      }
     },
     "7bfbd261df8a4822b72e93615f2dba56": {
      "model_module": "@jupyter-widgets/controls",
      "model_module_version": "1.5.0",
      "model_name": "HBoxModel",
      "state": {
       "children": [
        "IPY_MODEL_69ef7ca4e3fd43f3bbf655949c3fe767",
        "IPY_MODEL_7569675788ee407b9660c364ce183242"
       ],
       "layout": "IPY_MODEL_201a40bcb2bf4a90aa354329395110df"
      }
     },
     "7fa6081ab3ed4cce8aa146c25a20f31f": {
      "model_module": "@jupyter-widgets/base",
      "model_module_version": "1.2.0",
      "model_name": "LayoutModel",
      "state": {}
     },
     "843a21a9da7f4d429e4b6615753d6945": {
      "model_module": "@jupyter-widgets/controls",
      "model_module_version": "1.5.0",
      "model_name": "FloatProgressModel",
      "state": {
       "bar_style": "success",
       "description": "100%",
       "layout": "IPY_MODEL_7fa6081ab3ed4cce8aa146c25a20f31f",
       "max": 24,
       "style": "IPY_MODEL_5cfc90cc6ba748daa2ab69a116cebf10",
       "value": 24
      }
     },
     "85de8eb8e2e64c69b588c8108730626b": {
      "model_module": "@jupyter-widgets/controls",
      "model_module_version": "1.5.0",
      "model_name": "DescriptionStyleModel",
      "state": {
       "description_width": ""
      }
     },
     "867c63bfa4b04debbef03ace9b49e242": {
      "model_module": "@jupyter-widgets/base",
      "model_module_version": "1.2.0",
      "model_name": "LayoutModel",
      "state": {}
     },
     "871c72f26cfc4b3db9308b56b70913ab": {
      "model_module": "@jupyter-widgets/base",
      "model_module_version": "1.2.0",
      "model_name": "LayoutModel",
      "state": {}
     },
     "8e1e2aff868b4c34a5b16583a5bbb0ba": {
      "model_module": "@jupyter-widgets/controls",
      "model_module_version": "1.5.0",
      "model_name": "ProgressStyleModel",
      "state": {
       "description_width": "initial"
      }
     },
     "96d87dd760e741a08728ada69b08007c": {
      "model_module": "@jupyter-widgets/base",
      "model_module_version": "1.2.0",
      "model_name": "LayoutModel",
      "state": {}
     },
     "982df9562dfc4c9a8457c98f04410807": {
      "model_module": "@jupyter-widgets/controls",
      "model_module_version": "1.5.0",
      "model_name": "FloatProgressModel",
      "state": {
       "bar_style": "success",
       "description": "618,MP-COS,all: 100%",
       "layout": "IPY_MODEL_ee2011a76718497eab948e6020c2bdc7",
       "max": 24,
       "style": "IPY_MODEL_d8b9bea662494ece969748b470b342dc",
       "value": 24
      }
     },
     "9ba03d02b19c48b6b1cbb01fb31f5252": {
      "model_module": "@jupyter-widgets/controls",
      "model_module_version": "1.5.0",
      "model_name": "ProgressStyleModel",
      "state": {
       "description_width": "initial"
      }
     },
     "a3c0a31a86f94b039b839a9574e01d67": {
      "model_module": "@jupyter-widgets/controls",
      "model_module_version": "1.5.0",
      "model_name": "DescriptionStyleModel",
      "state": {
       "description_width": ""
      }
     },
     "a66fe806060048b9a01f2fa6743d64c3": {
      "model_module": "@jupyter-widgets/base",
      "model_module_version": "1.2.0",
      "model_name": "LayoutModel",
      "state": {}
     },
     "a8e66309b99742299d0866378ebc9632": {
      "model_module": "@jupyter-widgets/controls",
      "model_module_version": "1.5.0",
      "model_name": "FloatProgressModel",
      "state": {
       "bar_style": "success",
       "description": "618,MP-COS,all: 100%",
       "layout": "IPY_MODEL_1ac08784a21b4439b1b33e80b7ada36e",
       "max": 24,
       "style": "IPY_MODEL_3055b28d592a4eaeaf2e146b22de81d2",
       "value": 24
      }
     },
     "b0d93e7c59b04fdcb5757aac64f83715": {
      "model_module": "@jupyter-widgets/controls",
      "model_module_version": "1.5.0",
      "model_name": "DescriptionStyleModel",
      "state": {
       "description_width": ""
      }
     },
     "b224e13cc2b04ed99121ca003b4ff0a9": {
      "model_module": "@jupyter-widgets/controls",
      "model_module_version": "1.5.0",
      "model_name": "HTMLModel",
      "state": {
       "layout": "IPY_MODEL_96d87dd760e741a08728ada69b08007c",
       "style": "IPY_MODEL_b0d93e7c59b04fdcb5757aac64f83715",
       "value": " 0/24 [00:00&lt;?, ?it/s]"
      }
     },
     "ba44ecacb128425388dfe04cb11bf982": {
      "model_module": "@jupyter-widgets/base",
      "model_module_version": "1.2.0",
      "model_name": "LayoutModel",
      "state": {}
     },
     "bed846d36c2d4bc6be3022cfc56fbc6c": {
      "model_module": "@jupyter-widgets/base",
      "model_module_version": "1.2.0",
      "model_name": "LayoutModel",
      "state": {}
     },
     "c045997dfeab43f39aae96f703abe4a6": {
      "model_module": "@jupyter-widgets/controls",
      "model_module_version": "1.5.0",
      "model_name": "HTMLModel",
      "state": {
       "layout": "IPY_MODEL_ceaddfbb5d964d09a16d3f814357a7ba",
       "style": "IPY_MODEL_ef77f4ac70d24fe5851c53f7425c821b",
       "value": " 24/24 [00:25&lt;00:00,  1.04s/it, query=618, system=MP-COS, mode=all]"
      }
     },
     "c3ec70f0899b4bc092c89ddb8c260adc": {
      "model_module": "@jupyter-widgets/base",
      "model_module_version": "1.2.0",
      "model_name": "LayoutModel",
      "state": {}
     },
     "c6f95fd095964e3aafe437f76abd73ff": {
      "model_module": "@jupyter-widgets/base",
      "model_module_version": "1.2.0",
      "model_name": "LayoutModel",
      "state": {}
     },
     "c7ad2e446ea54329b14f0be36f2986fb": {
      "model_module": "@jupyter-widgets/controls",
      "model_module_version": "1.5.0",
      "model_name": "HBoxModel",
      "state": {
       "children": [
        "IPY_MODEL_982df9562dfc4c9a8457c98f04410807",
        "IPY_MODEL_37b5c3354187486e8e0d72f75e788c55"
       ],
       "layout": "IPY_MODEL_3eb512c989e34a2e8e03b2dce214e4cb"
      }
     },
     "ca458319b8344e0ca200599c13774f25": {
      "model_module": "@jupyter-widgets/controls",
      "model_module_version": "1.5.0",
      "model_name": "HBoxModel",
      "state": {
       "children": [
        "IPY_MODEL_a8e66309b99742299d0866378ebc9632",
        "IPY_MODEL_59e27594186b458c99b0e67f5e8c31aa"
       ],
       "layout": "IPY_MODEL_57c08ede4c65456a9119c6799945afa7"
      }
     },
     "ceaddfbb5d964d09a16d3f814357a7ba": {
      "model_module": "@jupyter-widgets/base",
      "model_module_version": "1.2.0",
      "model_name": "LayoutModel",
      "state": {}
     },
     "d8b9bea662494ece969748b470b342dc": {
      "model_module": "@jupyter-widgets/controls",
      "model_module_version": "1.5.0",
      "model_name": "ProgressStyleModel",
      "state": {
       "description_width": "initial"
      }
     },
     "dce5d6ce03ad44c793940701769e72f1": {
      "model_module": "@jupyter-widgets/base",
      "model_module_version": "1.2.0",
      "model_name": "LayoutModel",
      "state": {}
     },
     "e553bf8af33d4d67935382f6b5200bbf": {
      "model_module": "@jupyter-widgets/controls",
      "model_module_version": "1.5.0",
      "model_name": "DescriptionStyleModel",
      "state": {
       "description_width": ""
      }
     },
     "e63a93bb4f5c4eadb1982951e5318372": {
      "model_module": "@jupyter-widgets/controls",
      "model_module_version": "1.5.0",
      "model_name": "HBoxModel",
      "state": {
       "children": [
        "IPY_MODEL_0eb29f1eb675486c9868bb7daf045c63",
        "IPY_MODEL_b224e13cc2b04ed99121ca003b4ff0a9"
       ],
       "layout": "IPY_MODEL_ba44ecacb128425388dfe04cb11bf982"
      }
     },
     "e82efc761c48414d90c050f0d4239057": {
      "model_module": "@jupyter-widgets/controls",
      "model_module_version": "1.5.0",
      "model_name": "FloatProgressModel",
      "state": {
       "bar_style": "info",
       "layout": "IPY_MODEL_14a3cb77130a4eb081cf1a37ba6e9834",
       "max": 1,
       "style": "IPY_MODEL_55b3f040fc374f8e870a4946dedbc4d7"
      }
     },
     "e9118ca1a2d44472847a906461407aa6": {
      "model_module": "@jupyter-widgets/controls",
      "model_module_version": "1.5.0",
      "model_name": "DescriptionStyleModel",
      "state": {
       "description_width": ""
      }
     },
     "ea0ac241afb0407a80f7991fb11cfa8d": {
      "model_module": "@jupyter-widgets/base",
      "model_module_version": "1.2.0",
      "model_name": "LayoutModel",
      "state": {}
     },
     "ee2011a76718497eab948e6020c2bdc7": {
      "model_module": "@jupyter-widgets/base",
      "model_module_version": "1.2.0",
      "model_name": "LayoutModel",
      "state": {}
     },
     "ee4889438eb248f28454526df803f73c": {
      "model_module": "@jupyter-widgets/base",
      "model_module_version": "1.2.0",
      "model_name": "LayoutModel",
      "state": {}
     },
     "ef77f4ac70d24fe5851c53f7425c821b": {
      "model_module": "@jupyter-widgets/controls",
      "model_module_version": "1.5.0",
      "model_name": "DescriptionStyleModel",
      "state": {
       "description_width": ""
      }
     },
     "f1771406ebf643a3add783f13353e36c": {
      "model_module": "@jupyter-widgets/controls",
      "model_module_version": "1.5.0",
      "model_name": "FloatProgressModel",
      "state": {
       "bar_style": "success",
       "layout": "IPY_MODEL_c3ec70f0899b4bc092c89ddb8c260adc",
       "max": 1,
       "style": "IPY_MODEL_7b0b61d2255c4d9fb005f9d6b594bca3",
       "value": 1
      }
     },
     "f31e45c3043740dbaedf863cc8c7637d": {
      "model_module": "@jupyter-widgets/controls",
      "model_module_version": "1.5.0",
      "model_name": "HTMLModel",
      "state": {
       "layout": "IPY_MODEL_bed846d36c2d4bc6be3022cfc56fbc6c",
       "style": "IPY_MODEL_43d14011d8e04a7cb8c457d716a393ea",
       "value": " 24/24 [01:37&lt;00:00,  4.07s/it]"
      }
     },
     "f503613064724833a087b747bbd6e985": {
      "model_module": "@jupyter-widgets/controls",
      "model_module_version": "1.5.0",
      "model_name": "ProgressStyleModel",
      "state": {
       "description_width": "initial"
      }
     },
     "f539ab97112a469e9605e95001de8362": {
      "model_module": "@jupyter-widgets/base",
      "model_module_version": "1.2.0",
      "model_name": "LayoutModel",
      "state": {}
     }
    },
    "version_major": 2,
    "version_minor": 0
   }
  }
 },
 "nbformat": 4,
 "nbformat_minor": 4
}
