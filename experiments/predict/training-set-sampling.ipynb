{
 "cells": [
  {
   "cell_type": "code",
   "execution_count": null,
   "metadata": {},
   "outputs": [],
   "source": [
    "%matplotlib inline\n",
    "import pandas as pd\n",
    "import matplotlib.pyplot as plt\n",
    "import numpy as np\n",
    "import sys\n",
    "sys.path.append('../../src/')\n",
    "sys.path.append('../../src/')\n",
    "import axiomatic.explanations.pairsampling as ps"
   ]
  },
  {
   "cell_type": "code",
   "execution_count": null,
   "metadata": {},
   "outputs": [],
   "source": [
    "import itertools\n",
    "\n",
    "def mkpairs(pair_criterion, indexes=np.arange(1000)):\n",
    "    pairs = (dict(lo=i1, hi=i2) for i1, i2 in itertools.combinations(indexes, 2)\n",
    "                 if i1 < i2 and pair_criterion(i1, i2))\n",
    "    df = pd.DataFrame(pairs)\n",
    "    df['dif'] = df.hi - df.lo\n",
    "    return df\n",
    "    \n",
    "\n",
    "def viz_pairs(pair_criterion, indexes=np.arange(1000), nb=100):\n",
    "    pdf = mkpairs(pair_criterion, indexes)\n",
    "    print(len(pdf), 'samples.')\n",
    "    f, (a1, a2, a3) = plt.subplots(ncols=3)\n",
    "    kw = dict(bins=nb, legend=False)\n",
    "    pdf[['lo']].plot.hist(ax=a1, title='Lower Ranks', **kw)\n",
    "    pdf[['hi']].plot.hist(ax=a2, title='Upper Ranks', **kw)\n",
    "    pdf[['dif']].plot.hist(ax=a3, title='Rank distances', **kw)\n",
    "    f.set_size_inches((16, 4))\n",
    "    f.tight_layout()\n",
    "    f.set_facecolor('white')\n"
   ]
  },
  {
   "cell_type": "code",
   "execution_count": null,
   "metadata": {},
   "outputs": [],
   "source": [
    "viz_pairs(ps.fixed_ranges)"
   ]
  },
  {
   "cell_type": "markdown",
   "metadata": {},
   "source": [
    "## examples"
   ]
  },
  {
   "cell_type": "code",
   "execution_count": null,
   "metadata": {},
   "outputs": [],
   "source": [
    "def mk_random_sampler(k, n, seed=1):\n",
    "    npairs = k**2 / 2 - k\n",
    "    if n >= npairs:\n",
    "        return lambda a, b: True\n",
    "    prob = n / npairs\n",
    "    rnd = np.random.RandomState(seed=seed)\n",
    "    return lambda a, b: rnd.rand() <= prob\n",
    "\n",
    "viz_pairs(mk_random_sampler(1000, 50000), np.arange(1000), nb=1113)"
   ]
  },
  {
   "cell_type": "code",
   "execution_count": null,
   "metadata": {},
   "outputs": [],
   "source": [
    "def mk_topk_random_sampler(k, maxk, nrand, seed=1):\n",
    "    rs = mk_random_sampler(maxk, nrand, seed=seed)\n",
    "    return lambda i1, i2: (i1 <= k and i2 <= k) or rs(i1, i2)\n",
    "\n",
    "rlen=1000\n",
    "viz_pairs(mk_topk_random_sampler(20, rlen, 550000, seed=1), np.arange(rlen), nb=1037)"
   ]
  },
  {
   "cell_type": "code",
   "execution_count": null,
   "metadata": {},
   "outputs": [],
   "source": [
    "viz_pairs(mk_topk_random_sampler(10, rlen, 200, seed=1), np.arange(rlen), nb=137)"
   ]
  },
  {
   "cell_type": "code",
   "execution_count": null,
   "metadata": {},
   "outputs": [],
   "source": [
    "viz_pairs(lambda a, b: a < b and a < 10 and b < 40, np.arange(rlen), nb=137)"
   ]
  },
  {
   "cell_type": "code",
   "execution_count": null,
   "metadata": {},
   "outputs": [],
   "source": [
    "21 * 5 * 2"
   ]
  },
  {
   "cell_type": "code",
   "execution_count": null,
   "metadata": {},
   "outputs": [],
   "source": [
    "f'{(163781 * 266 * 2) * (2 / 60 / 60) / 1000:.2f} hours'"
   ]
  },
  {
   "cell_type": "code",
   "execution_count": null,
   "metadata": {},
   "outputs": [],
   "source": []
  }
 ],
 "metadata": {
  "language_info": {
   "name": "python",
   "pygments_lexer": "ipython3"
  }
 },
 "nbformat": 4,
 "nbformat_minor": 4
}
